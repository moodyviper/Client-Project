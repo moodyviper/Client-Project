{
 "cells": [
  {
   "cell_type": "markdown",
   "id": "d05bac50",
   "metadata": {},
   "source": [
    "# Business Case :-   FicZon wants to explore Machine Learning to pre-categorize the lead quality."
   ]
  },
  {
   "cell_type": "markdown",
   "id": "1ca5e9e4",
   "metadata": {},
   "source": [
    "# ---:  PYTHON  ESSENTIALS :---"
   ]
  },
  {
   "cell_type": "code",
   "execution_count": 1,
   "id": "54067af8",
   "metadata": {},
   "outputs": [],
   "source": [
    "# Import required Libraries\n",
    "import os\n",
    "import numpy as np                \n",
    "import pandas as pd\n",
    "import seaborn as sns\n",
    "import matplotlib.pyplot as plt\n",
    "%matplotlib inline\n",
    "\n",
    "# Import Warnings to ignore features warnings\n",
    "import warnings\n",
    "warnings.filterwarnings('ignore')\n",
    "\n",
    "# To Load data From SQL Server\n",
    "import mysql.connector"
   ]
  },
  {
   "cell_type": "code",
   "execution_count": 6,
   "id": "3ee8c589",
   "metadata": {},
   "outputs": [],
   "source": [
    "# Fetch table from our data base and save in a variable\n",
    "query = \"select * from data\"\n",
    "data = pd.read_sql_query(query,connection)"
   ]
  },
  {
   "cell_type": "code",
   "execution_count": 7,
   "id": "c536247e",
   "metadata": {},
   "outputs": [
    {
     "data": {
      "text/html": [
       "<div>\n",
       "<style scoped>\n",
       "    .dataframe tbody tr th:only-of-type {\n",
       "        vertical-align: middle;\n",
       "    }\n",
       "\n",
       "    .dataframe tbody tr th {\n",
       "        vertical-align: top;\n",
       "    }\n",
       "\n",
       "    .dataframe thead th {\n",
       "        text-align: right;\n",
       "    }\n",
       "</style>\n",
       "<table border=\"1\" class=\"dataframe\">\n",
       "  <thead>\n",
       "    <tr style=\"text-align: right;\">\n",
       "      <th></th>\n",
       "      <th>Created</th>\n",
       "      <th>Product_ID</th>\n",
       "      <th>Source</th>\n",
       "      <th>Mobile</th>\n",
       "      <th>EMAIL</th>\n",
       "      <th>Sales_Agent</th>\n",
       "      <th>Location</th>\n",
       "      <th>Delivery_Mode</th>\n",
       "      <th>Status</th>\n",
       "    </tr>\n",
       "  </thead>\n",
       "  <tbody>\n",
       "    <tr>\n",
       "      <th>0</th>\n",
       "      <td>14-11-2018 10:05</td>\n",
       "      <td></td>\n",
       "      <td>Website</td>\n",
       "      <td>984XXXXXXX</td>\n",
       "      <td>aXXXXXXX@gmail.com</td>\n",
       "      <td>Sales-Agent-11</td>\n",
       "      <td></td>\n",
       "      <td>Mode-5</td>\n",
       "      <td>Open</td>\n",
       "    </tr>\n",
       "    <tr>\n",
       "      <th>1</th>\n",
       "      <td>14-11-2018 09:22</td>\n",
       "      <td></td>\n",
       "      <td>Website</td>\n",
       "      <td>XXXXXXX</td>\n",
       "      <td>#VALUE!</td>\n",
       "      <td>Sales-Agent-10</td>\n",
       "      <td></td>\n",
       "      <td>Mode-5</td>\n",
       "      <td>Open</td>\n",
       "    </tr>\n",
       "    <tr>\n",
       "      <th>2</th>\n",
       "      <td>14-11-2018 09:21</td>\n",
       "      <td></td>\n",
       "      <td>Website</td>\n",
       "      <td>XXXXXXX</td>\n",
       "      <td>dXXXXXXX@yahoo.com</td>\n",
       "      <td>Sales-Agent-10</td>\n",
       "      <td></td>\n",
       "      <td>Mode-5</td>\n",
       "      <td>Open</td>\n",
       "    </tr>\n",
       "    <tr>\n",
       "      <th>3</th>\n",
       "      <td>14-11-2018 08:46</td>\n",
       "      <td></td>\n",
       "      <td>Website</td>\n",
       "      <td>XXXXXXX</td>\n",
       "      <td>wXXXXXXX@gmail.com</td>\n",
       "      <td>Sales-Agent-10</td>\n",
       "      <td></td>\n",
       "      <td>Mode-5</td>\n",
       "      <td>Open</td>\n",
       "    </tr>\n",
       "    <tr>\n",
       "      <th>4</th>\n",
       "      <td>14-11-2018 07:34</td>\n",
       "      <td></td>\n",
       "      <td>Website</td>\n",
       "      <td>XXXXXXX</td>\n",
       "      <td>cXXXXXXX@gmail.com</td>\n",
       "      <td>Sales-Agent-10</td>\n",
       "      <td></td>\n",
       "      <td>Mode-5</td>\n",
       "      <td>Open</td>\n",
       "    </tr>\n",
       "    <tr>\n",
       "      <th>...</th>\n",
       "      <td>...</td>\n",
       "      <td>...</td>\n",
       "      <td>...</td>\n",
       "      <td>...</td>\n",
       "      <td>...</td>\n",
       "      <td>...</td>\n",
       "      <td>...</td>\n",
       "      <td>...</td>\n",
       "      <td>...</td>\n",
       "    </tr>\n",
       "    <tr>\n",
       "      <th>7417</th>\n",
       "      <td>28-04-2018 09:45</td>\n",
       "      <td>9</td>\n",
       "      <td>Call</td>\n",
       "      <td></td>\n",
       "      <td>aXXXXXXX@gmail.com</td>\n",
       "      <td>Sales-Agent-6</td>\n",
       "      <td>Mumbai</td>\n",
       "      <td>Mode-4</td>\n",
       "      <td>LOST</td>\n",
       "    </tr>\n",
       "    <tr>\n",
       "      <th>7418</th>\n",
       "      <td>28-04-2018 09:43</td>\n",
       "      <td>15</td>\n",
       "      <td>Call</td>\n",
       "      <td></td>\n",
       "      <td>#VALUE!</td>\n",
       "      <td>Sales-Agent-12</td>\n",
       "      <td>Other Locations</td>\n",
       "      <td>Mode-5</td>\n",
       "      <td>LOST</td>\n",
       "    </tr>\n",
       "    <tr>\n",
       "      <th>7419</th>\n",
       "      <td>28-04-2018 09:20</td>\n",
       "      <td>5</td>\n",
       "      <td>Live Chat-Direct</td>\n",
       "      <td></td>\n",
       "      <td>sXXXXXXX@gmail.com</td>\n",
       "      <td>Sales-Agent-11</td>\n",
       "      <td>Bangalore</td>\n",
       "      <td>Mode-1</td>\n",
       "      <td>Not Responding</td>\n",
       "    </tr>\n",
       "    <tr>\n",
       "      <th>7420</th>\n",
       "      <td>28-04-2018 08:04</td>\n",
       "      <td>21</td>\n",
       "      <td>CRM form</td>\n",
       "      <td></td>\n",
       "      <td>YXXXXXXX@gmail.com</td>\n",
       "      <td>Sales-Agent-4</td>\n",
       "      <td>Other Locations</td>\n",
       "      <td>Mode-1</td>\n",
       "      <td>Just Enquiry</td>\n",
       "    </tr>\n",
       "    <tr>\n",
       "      <th>7421</th>\n",
       "      <td>28-04-2018 07:54</td>\n",
       "      <td>25</td>\n",
       "      <td>Website</td>\n",
       "      <td></td>\n",
       "      <td>cXXXXXXX@gmail.com</td>\n",
       "      <td>Sales-Agent-3</td>\n",
       "      <td>Chennai</td>\n",
       "      <td>Mode-1</td>\n",
       "      <td>CONVERTED</td>\n",
       "    </tr>\n",
       "  </tbody>\n",
       "</table>\n",
       "<p>7422 rows × 9 columns</p>\n",
       "</div>"
      ],
      "text/plain": [
       "               Created Product_ID            Source      Mobile  \\\n",
       "0     14-11-2018 10:05                      Website  984XXXXXXX   \n",
       "1     14-11-2018 09:22                      Website     XXXXXXX   \n",
       "2     14-11-2018 09:21                      Website     XXXXXXX   \n",
       "3     14-11-2018 08:46                      Website     XXXXXXX   \n",
       "4     14-11-2018 07:34                      Website     XXXXXXX   \n",
       "...                ...        ...               ...         ...   \n",
       "7417  28-04-2018 09:45          9              Call               \n",
       "7418  28-04-2018 09:43         15              Call               \n",
       "7419  28-04-2018 09:20          5  Live Chat-Direct               \n",
       "7420  28-04-2018 08:04         21          CRM form               \n",
       "7421  28-04-2018 07:54         25           Website               \n",
       "\n",
       "                   EMAIL     Sales_Agent         Location Delivery_Mode  \\\n",
       "0     aXXXXXXX@gmail.com  Sales-Agent-11                         Mode-5   \n",
       "1                #VALUE!  Sales-Agent-10                         Mode-5   \n",
       "2     dXXXXXXX@yahoo.com  Sales-Agent-10                         Mode-5   \n",
       "3     wXXXXXXX@gmail.com  Sales-Agent-10                         Mode-5   \n",
       "4     cXXXXXXX@gmail.com  Sales-Agent-10                         Mode-5   \n",
       "...                  ...             ...              ...           ...   \n",
       "7417  aXXXXXXX@gmail.com   Sales-Agent-6           Mumbai        Mode-4   \n",
       "7418             #VALUE!  Sales-Agent-12  Other Locations        Mode-5   \n",
       "7419  sXXXXXXX@gmail.com  Sales-Agent-11        Bangalore        Mode-1   \n",
       "7420  YXXXXXXX@gmail.com   Sales-Agent-4  Other Locations        Mode-1   \n",
       "7421  cXXXXXXX@gmail.com   Sales-Agent-3          Chennai        Mode-1   \n",
       "\n",
       "              Status  \n",
       "0               Open  \n",
       "1               Open  \n",
       "2               Open  \n",
       "3               Open  \n",
       "4               Open  \n",
       "...              ...  \n",
       "7417            LOST  \n",
       "7418            LOST  \n",
       "7419  Not Responding  \n",
       "7420    Just Enquiry  \n",
       "7421       CONVERTED  \n",
       "\n",
       "[7422 rows x 9 columns]"
      ]
     },
     "execution_count": 7,
     "metadata": {},
     "output_type": "execute_result"
    }
   ],
   "source": [
    "# Print Data\n",
    "data"
   ]
  },
  {
   "cell_type": "markdown",
   "id": "de61aa00",
   "metadata": {},
   "source": [
    "# Domain Analysis :-\n",
    "- **Created -**  Created is date and time on which the lead was generated.\n",
    "- **Product_ID -** Product_ID is the Serial no. of the product.\n",
    "- **Source -** Source ,from where the lead has generated like website , phonecall , email etc.\n",
    "- **Mobile -** Mobile number of the lead or customer\n",
    "- **EMAIL -** EMAIL of the lead.\n",
    "- **Sales_Agent -** Sales_Agent is the agent who generated the lead.\n",
    "- **Location -** Location is the address of the lead / from where the lead has generated.\n",
    "- **Delivery_Mode -** how the product has deliveried to lead or what type of delivery mode.\n",
    "- **Status -** Status of current lead ."
   ]
  },
  {
   "cell_type": "markdown",
   "id": "2a46d0c1",
   "metadata": {},
   "source": [
    "# Basic checks :-"
   ]
  },
  {
   "cell_type": "code",
   "execution_count": 8,
   "id": "96f2317f",
   "metadata": {},
   "outputs": [
    {
     "data": {
      "text/html": [
       "<div>\n",
       "<style scoped>\n",
       "    .dataframe tbody tr th:only-of-type {\n",
       "        vertical-align: middle;\n",
       "    }\n",
       "\n",
       "    .dataframe tbody tr th {\n",
       "        vertical-align: top;\n",
       "    }\n",
       "\n",
       "    .dataframe thead th {\n",
       "        text-align: right;\n",
       "    }\n",
       "</style>\n",
       "<table border=\"1\" class=\"dataframe\">\n",
       "  <thead>\n",
       "    <tr style=\"text-align: right;\">\n",
       "      <th></th>\n",
       "      <th>Created</th>\n",
       "      <th>Product_ID</th>\n",
       "      <th>Source</th>\n",
       "      <th>Mobile</th>\n",
       "      <th>EMAIL</th>\n",
       "      <th>Sales_Agent</th>\n",
       "      <th>Location</th>\n",
       "      <th>Delivery_Mode</th>\n",
       "      <th>Status</th>\n",
       "    </tr>\n",
       "  </thead>\n",
       "  <tbody>\n",
       "    <tr>\n",
       "      <th>0</th>\n",
       "      <td>14-11-2018 10:05</td>\n",
       "      <td></td>\n",
       "      <td>Website</td>\n",
       "      <td>984XXXXXXX</td>\n",
       "      <td>aXXXXXXX@gmail.com</td>\n",
       "      <td>Sales-Agent-11</td>\n",
       "      <td></td>\n",
       "      <td>Mode-5</td>\n",
       "      <td>Open</td>\n",
       "    </tr>\n",
       "    <tr>\n",
       "      <th>1</th>\n",
       "      <td>14-11-2018 09:22</td>\n",
       "      <td></td>\n",
       "      <td>Website</td>\n",
       "      <td>XXXXXXX</td>\n",
       "      <td>#VALUE!</td>\n",
       "      <td>Sales-Agent-10</td>\n",
       "      <td></td>\n",
       "      <td>Mode-5</td>\n",
       "      <td>Open</td>\n",
       "    </tr>\n",
       "    <tr>\n",
       "      <th>2</th>\n",
       "      <td>14-11-2018 09:21</td>\n",
       "      <td></td>\n",
       "      <td>Website</td>\n",
       "      <td>XXXXXXX</td>\n",
       "      <td>dXXXXXXX@yahoo.com</td>\n",
       "      <td>Sales-Agent-10</td>\n",
       "      <td></td>\n",
       "      <td>Mode-5</td>\n",
       "      <td>Open</td>\n",
       "    </tr>\n",
       "    <tr>\n",
       "      <th>3</th>\n",
       "      <td>14-11-2018 08:46</td>\n",
       "      <td></td>\n",
       "      <td>Website</td>\n",
       "      <td>XXXXXXX</td>\n",
       "      <td>wXXXXXXX@gmail.com</td>\n",
       "      <td>Sales-Agent-10</td>\n",
       "      <td></td>\n",
       "      <td>Mode-5</td>\n",
       "      <td>Open</td>\n",
       "    </tr>\n",
       "    <tr>\n",
       "      <th>4</th>\n",
       "      <td>14-11-2018 07:34</td>\n",
       "      <td></td>\n",
       "      <td>Website</td>\n",
       "      <td>XXXXXXX</td>\n",
       "      <td>cXXXXXXX@gmail.com</td>\n",
       "      <td>Sales-Agent-10</td>\n",
       "      <td></td>\n",
       "      <td>Mode-5</td>\n",
       "      <td>Open</td>\n",
       "    </tr>\n",
       "  </tbody>\n",
       "</table>\n",
       "</div>"
      ],
      "text/plain": [
       "            Created Product_ID   Source      Mobile               EMAIL  \\\n",
       "0  14-11-2018 10:05             Website  984XXXXXXX  aXXXXXXX@gmail.com   \n",
       "1  14-11-2018 09:22             Website     XXXXXXX             #VALUE!   \n",
       "2  14-11-2018 09:21             Website     XXXXXXX  dXXXXXXX@yahoo.com   \n",
       "3  14-11-2018 08:46             Website     XXXXXXX  wXXXXXXX@gmail.com   \n",
       "4  14-11-2018 07:34             Website     XXXXXXX  cXXXXXXX@gmail.com   \n",
       "\n",
       "      Sales_Agent Location Delivery_Mode Status  \n",
       "0  Sales-Agent-11                 Mode-5   Open  \n",
       "1  Sales-Agent-10                 Mode-5   Open  \n",
       "2  Sales-Agent-10                 Mode-5   Open  \n",
       "3  Sales-Agent-10                 Mode-5   Open  \n",
       "4  Sales-Agent-10                 Mode-5   Open  "
      ]
     },
     "execution_count": 8,
     "metadata": {},
     "output_type": "execute_result"
    }
   ],
   "source": [
    "# To see first five Records\n",
    "data.head()"
   ]
  },
  {
   "cell_type": "code",
   "execution_count": 9,
   "id": "2663f46c",
   "metadata": {},
   "outputs": [
    {
     "name": "stdout",
     "output_type": "stream",
     "text": [
      "<class 'pandas.core.frame.DataFrame'>\n",
      "RangeIndex: 7422 entries, 0 to 7421\n",
      "Data columns (total 9 columns):\n",
      " #   Column         Non-Null Count  Dtype \n",
      "---  ------         --------------  ----- \n",
      " 0   Created        7422 non-null   object\n",
      " 1   Product_ID     7422 non-null   object\n",
      " 2   Source         7422 non-null   object\n",
      " 3   Mobile         7422 non-null   object\n",
      " 4   EMAIL          7422 non-null   object\n",
      " 5   Sales_Agent    7422 non-null   object\n",
      " 6   Location       7422 non-null   object\n",
      " 7   Delivery_Mode  7422 non-null   object\n",
      " 8   Status         7422 non-null   object\n",
      "dtypes: object(9)\n",
      "memory usage: 522.0+ KB\n"
     ]
    }
   ],
   "source": [
    "# To get information about data set\n",
    "data.info()"
   ]
  },
  {
   "cell_type": "markdown",
   "id": "1e09e550",
   "metadata": {},
   "source": [
    "### Insights  from info() :-\n",
    "- Created is Datetime Column but it is in Objective ( Convert it into datetime64).\n",
    "- Product_ID is a integer but it is in float.\n",
    "- Source  is a String with few missing values.\n",
    "- Mobile number is an integer but it is in float with missing values .\n",
    "- EMAIL is string.\n",
    "- Sales_Agent , Location are objects with missing values."
   ]
  },
  {
   "cell_type": "code",
   "execution_count": 10,
   "id": "261336ce",
   "metadata": {},
   "outputs": [
    {
     "data": {
      "text/html": [
       "<div>\n",
       "<style scoped>\n",
       "    .dataframe tbody tr th:only-of-type {\n",
       "        vertical-align: middle;\n",
       "    }\n",
       "\n",
       "    .dataframe tbody tr th {\n",
       "        vertical-align: top;\n",
       "    }\n",
       "\n",
       "    .dataframe thead th {\n",
       "        text-align: right;\n",
       "    }\n",
       "</style>\n",
       "<table border=\"1\" class=\"dataframe\">\n",
       "  <thead>\n",
       "    <tr style=\"text-align: right;\">\n",
       "      <th></th>\n",
       "      <th>Created</th>\n",
       "      <th>Product_ID</th>\n",
       "      <th>Source</th>\n",
       "      <th>Mobile</th>\n",
       "      <th>EMAIL</th>\n",
       "      <th>Sales_Agent</th>\n",
       "      <th>Location</th>\n",
       "      <th>Delivery_Mode</th>\n",
       "      <th>Status</th>\n",
       "    </tr>\n",
       "  </thead>\n",
       "  <tbody>\n",
       "    <tr>\n",
       "      <th>count</th>\n",
       "      <td>7422</td>\n",
       "      <td>7422</td>\n",
       "      <td>7422</td>\n",
       "      <td>7422</td>\n",
       "      <td>7422</td>\n",
       "      <td>7422</td>\n",
       "      <td>7422</td>\n",
       "      <td>7422</td>\n",
       "      <td>7422</td>\n",
       "    </tr>\n",
       "    <tr>\n",
       "      <th>unique</th>\n",
       "      <td>6752</td>\n",
       "      <td>30</td>\n",
       "      <td>26</td>\n",
       "      <td>487</td>\n",
       "      <td>883</td>\n",
       "      <td>13</td>\n",
       "      <td>18</td>\n",
       "      <td>5</td>\n",
       "      <td>11</td>\n",
       "    </tr>\n",
       "    <tr>\n",
       "      <th>top</th>\n",
       "      <td>26-09-2018 11:30</td>\n",
       "      <td>18</td>\n",
       "      <td>Call</td>\n",
       "      <td></td>\n",
       "      <td>#VALUE!</td>\n",
       "      <td>Sales-Agent-4</td>\n",
       "      <td>Other Locations</td>\n",
       "      <td>Mode-5</td>\n",
       "      <td>Junk Lead</td>\n",
       "    </tr>\n",
       "    <tr>\n",
       "      <th>freq</th>\n",
       "      <td>4</td>\n",
       "      <td>1711</td>\n",
       "      <td>2547</td>\n",
       "      <td>1810</td>\n",
       "      <td>1701</td>\n",
       "      <td>1500</td>\n",
       "      <td>2500</td>\n",
       "      <td>2975</td>\n",
       "      <td>1536</td>\n",
       "    </tr>\n",
       "  </tbody>\n",
       "</table>\n",
       "</div>"
      ],
      "text/plain": [
       "                 Created Product_ID Source Mobile    EMAIL    Sales_Agent  \\\n",
       "count               7422       7422   7422   7422     7422           7422   \n",
       "unique              6752         30     26    487      883             13   \n",
       "top     26-09-2018 11:30         18   Call         #VALUE!  Sales-Agent-4   \n",
       "freq                   4       1711   2547   1810     1701           1500   \n",
       "\n",
       "               Location Delivery_Mode     Status  \n",
       "count              7422          7422       7422  \n",
       "unique               18             5         11  \n",
       "top     Other Locations        Mode-5  Junk Lead  \n",
       "freq               2500          2975       1536  "
      ]
     },
     "execution_count": 10,
     "metadata": {},
     "output_type": "execute_result"
    }
   ],
   "source": [
    "# Check Statistical information about dataset\n",
    "data.describe()"
   ]
  },
  {
   "cell_type": "markdown",
   "id": "1912429e",
   "metadata": {},
   "source": [
    "### Insights from Describe()  :-\n",
    "- 25 types of Source are there but 2547 Leads were generated from Call Source only .\n",
    "- Mobile number and EMAIl are not showing any information about leads but who provide\n",
    "their information they are intrested in the products.\n",
    "- 12 Sales Agents are there but Sales-Agent-4 only make 1500 Leads , i.e he is better than other.\n",
    "- 2500 Leads were generated from other location .\n",
    "- there have 5 different ways to delivery products but Mode-5 used for 2975 times , so this is the easiest & popular way .\n",
    "- There are 11 different types of leads Status who were generated but 1536 leads were  junk  leads."
   ]
  },
  {
   "cell_type": "markdown",
   "id": "eff41ba8",
   "metadata": {},
   "source": [
    "# --- :  EXPLORATORY DATA ANALYSIS  : ---"
   ]
  },
  {
   "cell_type": "code",
   "execution_count": 11,
   "id": "afde5bcd",
   "metadata": {},
   "outputs": [],
   "source": [
    "# Convert Created Column from object datatype to datetime data type\n",
    "\n",
    "data['Created'] = data['Created'].astype('datetime64')"
   ]
  },
  {
   "cell_type": "code",
   "execution_count": 12,
   "id": "58955d4f",
   "metadata": {},
   "outputs": [],
   "source": [
    "# Make a different columns for Year , Month , Date , Hour , Minute.\n",
    "data['Year'] = data['Created'].dt.year\n",
    "data['Month'] = data['Created'].dt.month\n",
    "data['Day'] = data['Created'].dt.day\n",
    "data['Hour'] = data['Created'].dt.hour\n",
    "data['Minutes'] = data['Created'].dt.minute"
   ]
  },
  {
   "cell_type": "code",
   "execution_count": 13,
   "id": "6959c6f3",
   "metadata": {},
   "outputs": [
    {
     "data": {
      "text/html": [
       "<div>\n",
       "<style scoped>\n",
       "    .dataframe tbody tr th:only-of-type {\n",
       "        vertical-align: middle;\n",
       "    }\n",
       "\n",
       "    .dataframe tbody tr th {\n",
       "        vertical-align: top;\n",
       "    }\n",
       "\n",
       "    .dataframe thead th {\n",
       "        text-align: right;\n",
       "    }\n",
       "</style>\n",
       "<table border=\"1\" class=\"dataframe\">\n",
       "  <thead>\n",
       "    <tr style=\"text-align: right;\">\n",
       "      <th></th>\n",
       "      <th>Created</th>\n",
       "      <th>Product_ID</th>\n",
       "      <th>Source</th>\n",
       "      <th>Mobile</th>\n",
       "      <th>EMAIL</th>\n",
       "      <th>Sales_Agent</th>\n",
       "      <th>Location</th>\n",
       "      <th>Delivery_Mode</th>\n",
       "      <th>Status</th>\n",
       "      <th>Year</th>\n",
       "      <th>Month</th>\n",
       "      <th>Day</th>\n",
       "      <th>Hour</th>\n",
       "      <th>Minutes</th>\n",
       "    </tr>\n",
       "  </thead>\n",
       "  <tbody>\n",
       "    <tr>\n",
       "      <th>0</th>\n",
       "      <td>2018-11-14 10:05:00</td>\n",
       "      <td></td>\n",
       "      <td>Website</td>\n",
       "      <td>984XXXXXXX</td>\n",
       "      <td>aXXXXXXX@gmail.com</td>\n",
       "      <td>Sales-Agent-11</td>\n",
       "      <td></td>\n",
       "      <td>Mode-5</td>\n",
       "      <td>Open</td>\n",
       "      <td>2018</td>\n",
       "      <td>11</td>\n",
       "      <td>14</td>\n",
       "      <td>10</td>\n",
       "      <td>5</td>\n",
       "    </tr>\n",
       "    <tr>\n",
       "      <th>1</th>\n",
       "      <td>2018-11-14 09:22:00</td>\n",
       "      <td></td>\n",
       "      <td>Website</td>\n",
       "      <td>XXXXXXX</td>\n",
       "      <td>#VALUE!</td>\n",
       "      <td>Sales-Agent-10</td>\n",
       "      <td></td>\n",
       "      <td>Mode-5</td>\n",
       "      <td>Open</td>\n",
       "      <td>2018</td>\n",
       "      <td>11</td>\n",
       "      <td>14</td>\n",
       "      <td>9</td>\n",
       "      <td>22</td>\n",
       "    </tr>\n",
       "    <tr>\n",
       "      <th>2</th>\n",
       "      <td>2018-11-14 09:21:00</td>\n",
       "      <td></td>\n",
       "      <td>Website</td>\n",
       "      <td>XXXXXXX</td>\n",
       "      <td>dXXXXXXX@yahoo.com</td>\n",
       "      <td>Sales-Agent-10</td>\n",
       "      <td></td>\n",
       "      <td>Mode-5</td>\n",
       "      <td>Open</td>\n",
       "      <td>2018</td>\n",
       "      <td>11</td>\n",
       "      <td>14</td>\n",
       "      <td>9</td>\n",
       "      <td>21</td>\n",
       "    </tr>\n",
       "    <tr>\n",
       "      <th>3</th>\n",
       "      <td>2018-11-14 08:46:00</td>\n",
       "      <td></td>\n",
       "      <td>Website</td>\n",
       "      <td>XXXXXXX</td>\n",
       "      <td>wXXXXXXX@gmail.com</td>\n",
       "      <td>Sales-Agent-10</td>\n",
       "      <td></td>\n",
       "      <td>Mode-5</td>\n",
       "      <td>Open</td>\n",
       "      <td>2018</td>\n",
       "      <td>11</td>\n",
       "      <td>14</td>\n",
       "      <td>8</td>\n",
       "      <td>46</td>\n",
       "    </tr>\n",
       "    <tr>\n",
       "      <th>4</th>\n",
       "      <td>2018-11-14 07:34:00</td>\n",
       "      <td></td>\n",
       "      <td>Website</td>\n",
       "      <td>XXXXXXX</td>\n",
       "      <td>cXXXXXXX@gmail.com</td>\n",
       "      <td>Sales-Agent-10</td>\n",
       "      <td></td>\n",
       "      <td>Mode-5</td>\n",
       "      <td>Open</td>\n",
       "      <td>2018</td>\n",
       "      <td>11</td>\n",
       "      <td>14</td>\n",
       "      <td>7</td>\n",
       "      <td>34</td>\n",
       "    </tr>\n",
       "  </tbody>\n",
       "</table>\n",
       "</div>"
      ],
      "text/plain": [
       "              Created Product_ID   Source      Mobile               EMAIL  \\\n",
       "0 2018-11-14 10:05:00             Website  984XXXXXXX  aXXXXXXX@gmail.com   \n",
       "1 2018-11-14 09:22:00             Website     XXXXXXX             #VALUE!   \n",
       "2 2018-11-14 09:21:00             Website     XXXXXXX  dXXXXXXX@yahoo.com   \n",
       "3 2018-11-14 08:46:00             Website     XXXXXXX  wXXXXXXX@gmail.com   \n",
       "4 2018-11-14 07:34:00             Website     XXXXXXX  cXXXXXXX@gmail.com   \n",
       "\n",
       "      Sales_Agent Location Delivery_Mode Status  Year  Month  Day  Hour  \\\n",
       "0  Sales-Agent-11                 Mode-5   Open  2018     11   14    10   \n",
       "1  Sales-Agent-10                 Mode-5   Open  2018     11   14     9   \n",
       "2  Sales-Agent-10                 Mode-5   Open  2018     11   14     9   \n",
       "3  Sales-Agent-10                 Mode-5   Open  2018     11   14     8   \n",
       "4  Sales-Agent-10                 Mode-5   Open  2018     11   14     7   \n",
       "\n",
       "   Minutes  \n",
       "0        5  \n",
       "1       22  \n",
       "2       21  \n",
       "3       46  \n",
       "4       34  "
      ]
     },
     "execution_count": 13,
     "metadata": {},
     "output_type": "execute_result"
    }
   ],
   "source": [
    "data.head()"
   ]
  },
  {
   "cell_type": "markdown",
   "id": "8c55f35e",
   "metadata": {},
   "source": [
    "## ( 1 ) .  Univariate Analysis :-"
   ]
  },
  {
   "cell_type": "markdown",
   "id": "33ff017c",
   "metadata": {},
   "source": [
    "### ( i ) . Source :"
   ]
  },
  {
   "cell_type": "code",
   "execution_count": 14,
   "id": "372224e4",
   "metadata": {},
   "outputs": [
    {
     "data": {
      "image/png": "[encoded data removed]",
      "text/plain": [
       "<Figure size 640x480 with 1 Axes>"
      ]
     },
     "metadata": {},
     "output_type": "display_data"
    }
   ],
   "source": [
    "# Univariate Analysis For Source\n",
    "\n",
    "sns.countplot(x=data.Source)\n",
    "plt.title(\"No. of Leads Generated By Sources\")\n",
    "plt.xticks(rotation=90)\n",
    "plt.show()"
   ]
  },
  {
   "cell_type": "markdown",
   "id": "cec41241",
   "metadata": {},
   "source": [
    "**Insights from Source:-**\n",
    "- 34 % Leads were generarted from Call Source .\n",
    "- 25 % Leads were Generated from live direct chat .\n",
    "- 21 % Leads were generated from their Website .\n",
    "- 11 % Leads were generated from Live chat in Google , PPC , Blog and US Website.\n",
    "- remaining 10 % leads were generated from other sources ."
   ]
  },
  {
   "cell_type": "markdown",
   "id": "b89cb417",
   "metadata": {},
   "source": [
    "### ( ii ) . Sales Agent :"
   ]
  },
  {
   "cell_type": "code",
   "execution_count": 15,
   "id": "ef22833b",
   "metadata": {},
   "outputs": [
    {
     "data": {
      "image/png": "[encoded data removed]",
      "text/plain": [
       "<Figure size 640x480 with 1 Axes>"
      ]
     },
     "metadata": {},
     "output_type": "display_data"
    }
   ],
   "source": [
    "# Univariate analysis of Sales Agents\n",
    "sns.countplot(x=data.Sales_Agent)\n",
    "plt.title(\"No. of Leads Generated By Sales Agents\")\n",
    "plt.xticks(rotation=90)\n",
    "plt.show()"
   ]
  },
  {
   "cell_type": "markdown",
   "id": "ba628f6b",
   "metadata": {},
   "source": [
    "#### Insights  For Sales Agent:-\n",
    "- Agent-3 , Agent-4 , Agent-5 , Agent-7 , Agent-9 and Agent-11 togatherly Generated More than 87 %  Leads. \n",
    "- Agent-1 , Agent-2 , Agent-6 , Agent-8 , Agent-10 and Agent-12  are  togatherly Generated less than 13 %  Leads."
   ]
  },
  {
   "cell_type": "markdown",
   "id": "53876cf3",
   "metadata": {},
   "source": [
    "### ( iii ) . Location :"
   ]
  },
  {
   "cell_type": "code",
   "execution_count": 16,
   "id": "2569765a",
   "metadata": {},
   "outputs": [
    {
     "data": {
      "image/png": "[encoded data removed]",
      "text/plain": [
       "<Figure size 640x480 with 1 Axes>"
      ]
     },
     "metadata": {},
     "output_type": "display_data"
    }
   ],
   "source": [
    "# Univariate Analysis for Location\n",
    "sns.countplot(x=data.Location)\n",
    "plt.title(\"No. of Leads Generated By Locations\")\n",
    "plt.xticks(rotation=90)\n",
    "plt.show()"
   ]
  },
  {
   "cell_type": "markdown",
   "id": "4860e8a9",
   "metadata": {},
   "source": [
    "#### Insights from Location:-\n",
    "- 33 % Leads were generated from Other Locations.\n",
    "-  from Bangalore 28% and Chennai 12%  Leads were Generated.\n",
    "- From Hyderabad 7% , Delhi 6% and Mumbai 5%  Leads were Generated."
   ]
  },
  {
   "cell_type": "markdown",
   "id": "2c54ed9c",
   "metadata": {},
   "source": [
    "### ( iv ) . Delivery Mode :"
   ]
  },
  {
   "cell_type": "code",
   "execution_count": 17,
   "id": "ed84bf47",
   "metadata": {},
   "outputs": [
    {
     "data": {
      "image/png": "[encoded data removed]",
      "text/plain": [
       "<Figure size 640x480 with 1 Axes>"
      ]
     },
     "metadata": {},
     "output_type": "display_data"
    }
   ],
   "source": [
    "# Univariate analysis for Delivery Mode\n",
    "sns.countplot(x=data.Delivery_Mode)\n",
    "plt.title(\"No. of Leads Generated By Delivery Mode\")\n",
    "plt.xticks(rotation=90)\n",
    "plt.show()"
   ]
  },
  {
   "cell_type": "markdown",
   "id": "b42e96f8",
   "metadata": {},
   "source": [
    "### Insights  from Delivery mode:-\n",
    "\n",
    "- Most of Leads prefered Mode-5 , Mode-1 ,Mode-3"
   ]
  },
  {
   "cell_type": "markdown",
   "id": "0a037b68",
   "metadata": {},
   "source": [
    "### ( v ) . Status Of Lead :"
   ]
  },
  {
   "cell_type": "code",
   "execution_count": 18,
   "id": "0f71f1d0",
   "metadata": {},
   "outputs": [
    {
     "data": {
      "image/png": "[encoded data removed]",
      "text/plain": [
       "<Figure size 640x480 with 1 Axes>"
      ]
     },
     "metadata": {},
     "output_type": "display_data"
    }
   ],
   "source": [
    "# Uniovariate Analysis for Status of Leads\n",
    "sns.countplot(x=data.Status)\n",
    "plt.title(\"No. of Leads Generated By Status\")\n",
    "plt.xticks(rotation=90)\n",
    "plt.show()"
   ]
  },
  {
   "cell_type": "markdown",
   "id": "76e5c935",
   "metadata": {},
   "source": [
    "#### Insights from Leads Status :-\n",
    "- 20 %  Leads which are generated , they are Junk Leads.\n",
    "- 15 % Leads were Not Responding.\n",
    "- 11 % Leads got Convorted .(Successed)\n",
    "- 10 % Leads are just Enquired."
   ]
  },
  {
   "cell_type": "markdown",
   "id": "9f33264f",
   "metadata": {},
   "source": [
    "### ( vi ) . Leads by Months :"
   ]
  },
  {
   "cell_type": "code",
   "execution_count": 19,
   "id": "e9fb9e84",
   "metadata": {},
   "outputs": [
    {
     "data": {
      "image/png": "[encoded data removed]",
      "text/plain": [
       "<Figure size 640x480 with 1 Axes>"
      ]
     },
     "metadata": {},
     "output_type": "display_data"
    }
   ],
   "source": [
    "# Univariate analysis for Leads Generated by Month\n",
    "sns.countplot(x=data.Month)\n",
    "plt.xticks(rotation=90)\n",
    "plt.title(\"Month vs no. of Leads\")\n",
    "plt.show()"
   ]
  },
  {
   "cell_type": "markdown",
   "id": "3580ade8",
   "metadata": {},
   "source": [
    "#### Insights from Month:-\n",
    "- 76%  Leads were generated between May to October month."
   ]
  },
  {
   "cell_type": "markdown",
   "id": "ade4f8bc",
   "metadata": {},
   "source": [
    "## ( 2 ) .  Bi - Variate Analysis :-"
   ]
  },
  {
   "cell_type": "markdown",
   "id": "a98c22e5",
   "metadata": {},
   "source": [
    "### Preprocessing for Bi-Variate Analysis :-\n",
    "\n",
    "- According to Business Case we have to **combine target Classes** and differnciate into **Two Categories**.\n",
    "\n",
    "- **High Potential** -  CONVERTED,Potential,In Progress Positive,converted .\n",
    "\n",
    "- **Low Potential** - Junk Lead, Not Responding, Just Enquiry, Long Term, In Progress Negative, LOST and Open"
   ]
  },
  {
   "cell_type": "code",
   "execution_count": 20,
   "id": "234fab43",
   "metadata": {},
   "outputs": [],
   "source": [
    "# High Potential Leads\n",
    "\n",
    "data.loc[data['Status']==\"CONVERTED\",'Status'] = \"High Potential\"\n",
    "data.loc[data['Status']=='Potential',\"Status\"] = \"High Potential\"\n",
    "data.loc[data['Status']=='In Progress Positive',\"Status\"] = \"High Potential\"\n",
    "data.loc[data['Status']==\"converted\" , 'Status'] = \"High Potential\"\n",
    "\n",
    "\n",
    "# Low POtential Leads\n",
    "\n",
    "data.loc[data['Status']==\"Junk Lead\",'Status'] = \"Low Potential\"\n",
    "data.loc[data['Status']==\"Not Responding\",'Status'] = \"Low Potential\"\n",
    "data.loc[data['Status']==\"Just Enquiry\",'Status'] = \"Low Potential\"\n",
    "data.loc[data['Status']==\"Long Term\",'Status'] = \"Low Potential\"\n",
    "data.loc[data['Status']=='In Progress Negative',\"Status\"] = \"Low Potential\"\n",
    "data.loc[data['Status']==\"LOST\",'Status'] = \"Low Potential\"\n",
    "data.loc[data['Status']=='Open',\"Status\"] = \"Low Potential\""
   ]
  },
  {
   "cell_type": "code",
   "execution_count": 21,
   "id": "19cb1d71",
   "metadata": {},
   "outputs": [
    {
     "data": {
      "text/html": [
       "<div>\n",
       "<style scoped>\n",
       "    .dataframe tbody tr th:only-of-type {\n",
       "        vertical-align: middle;\n",
       "    }\n",
       "\n",
       "    .dataframe tbody tr th {\n",
       "        vertical-align: top;\n",
       "    }\n",
       "\n",
       "    .dataframe thead th {\n",
       "        text-align: right;\n",
       "    }\n",
       "</style>\n",
       "<table border=\"1\" class=\"dataframe\">\n",
       "  <thead>\n",
       "    <tr style=\"text-align: right;\">\n",
       "      <th></th>\n",
       "      <th>Created</th>\n",
       "      <th>Product_ID</th>\n",
       "      <th>Source</th>\n",
       "      <th>Mobile</th>\n",
       "      <th>EMAIL</th>\n",
       "      <th>Sales_Agent</th>\n",
       "      <th>Location</th>\n",
       "      <th>Delivery_Mode</th>\n",
       "      <th>Status</th>\n",
       "      <th>Year</th>\n",
       "      <th>Month</th>\n",
       "      <th>Day</th>\n",
       "      <th>Hour</th>\n",
       "      <th>Minutes</th>\n",
       "    </tr>\n",
       "  </thead>\n",
       "  <tbody>\n",
       "    <tr>\n",
       "      <th>0</th>\n",
       "      <td>2018-11-14 10:05:00</td>\n",
       "      <td></td>\n",
       "      <td>Website</td>\n",
       "      <td>984XXXXXXX</td>\n",
       "      <td>aXXXXXXX@gmail.com</td>\n",
       "      <td>Sales-Agent-11</td>\n",
       "      <td></td>\n",
       "      <td>Mode-5</td>\n",
       "      <td>Low Potential</td>\n",
       "      <td>2018</td>\n",
       "      <td>11</td>\n",
       "      <td>14</td>\n",
       "      <td>10</td>\n",
       "      <td>5</td>\n",
       "    </tr>\n",
       "    <tr>\n",
       "      <th>1</th>\n",
       "      <td>2018-11-14 09:22:00</td>\n",
       "      <td></td>\n",
       "      <td>Website</td>\n",
       "      <td>XXXXXXX</td>\n",
       "      <td>#VALUE!</td>\n",
       "      <td>Sales-Agent-10</td>\n",
       "      <td></td>\n",
       "      <td>Mode-5</td>\n",
       "      <td>Low Potential</td>\n",
       "      <td>2018</td>\n",
       "      <td>11</td>\n",
       "      <td>14</td>\n",
       "      <td>9</td>\n",
       "      <td>22</td>\n",
       "    </tr>\n",
       "    <tr>\n",
       "      <th>2</th>\n",
       "      <td>2018-11-14 09:21:00</td>\n",
       "      <td></td>\n",
       "      <td>Website</td>\n",
       "      <td>XXXXXXX</td>\n",
       "      <td>dXXXXXXX@yahoo.com</td>\n",
       "      <td>Sales-Agent-10</td>\n",
       "      <td></td>\n",
       "      <td>Mode-5</td>\n",
       "      <td>Low Potential</td>\n",
       "      <td>2018</td>\n",
       "      <td>11</td>\n",
       "      <td>14</td>\n",
       "      <td>9</td>\n",
       "      <td>21</td>\n",
       "    </tr>\n",
       "    <tr>\n",
       "      <th>3</th>\n",
       "      <td>2018-11-14 08:46:00</td>\n",
       "      <td></td>\n",
       "      <td>Website</td>\n",
       "      <td>XXXXXXX</td>\n",
       "      <td>wXXXXXXX@gmail.com</td>\n",
       "      <td>Sales-Agent-10</td>\n",
       "      <td></td>\n",
       "      <td>Mode-5</td>\n",
       "      <td>Low Potential</td>\n",
       "      <td>2018</td>\n",
       "      <td>11</td>\n",
       "      <td>14</td>\n",
       "      <td>8</td>\n",
       "      <td>46</td>\n",
       "    </tr>\n",
       "    <tr>\n",
       "      <th>4</th>\n",
       "      <td>2018-11-14 07:34:00</td>\n",
       "      <td></td>\n",
       "      <td>Website</td>\n",
       "      <td>XXXXXXX</td>\n",
       "      <td>cXXXXXXX@gmail.com</td>\n",
       "      <td>Sales-Agent-10</td>\n",
       "      <td></td>\n",
       "      <td>Mode-5</td>\n",
       "      <td>Low Potential</td>\n",
       "      <td>2018</td>\n",
       "      <td>11</td>\n",
       "      <td>14</td>\n",
       "      <td>7</td>\n",
       "      <td>34</td>\n",
       "    </tr>\n",
       "  </tbody>\n",
       "</table>\n",
       "</div>"
      ],
      "text/plain": [
       "              Created Product_ID   Source      Mobile               EMAIL  \\\n",
       "0 2018-11-14 10:05:00             Website  984XXXXXXX  aXXXXXXX@gmail.com   \n",
       "1 2018-11-14 09:22:00             Website     XXXXXXX             #VALUE!   \n",
       "2 2018-11-14 09:21:00             Website     XXXXXXX  dXXXXXXX@yahoo.com   \n",
       "3 2018-11-14 08:46:00             Website     XXXXXXX  wXXXXXXX@gmail.com   \n",
       "4 2018-11-14 07:34:00             Website     XXXXXXX  cXXXXXXX@gmail.com   \n",
       "\n",
       "      Sales_Agent Location Delivery_Mode         Status  Year  Month  Day  \\\n",
       "0  Sales-Agent-11                 Mode-5  Low Potential  2018     11   14   \n",
       "1  Sales-Agent-10                 Mode-5  Low Potential  2018     11   14   \n",
       "2  Sales-Agent-10                 Mode-5  Low Potential  2018     11   14   \n",
       "3  Sales-Agent-10                 Mode-5  Low Potential  2018     11   14   \n",
       "4  Sales-Agent-10                 Mode-5  Low Potential  2018     11   14   \n",
       "\n",
       "   Hour  Minutes  \n",
       "0    10        5  \n",
       "1     9       22  \n",
       "2     9       21  \n",
       "3     8       46  \n",
       "4     7       34  "
      ]
     },
     "execution_count": 21,
     "metadata": {},
     "output_type": "execute_result"
    }
   ],
   "source": [
    "data.head()"
   ]
  },
  {
   "cell_type": "code",
   "execution_count": 22,
   "id": "61d3dcdb",
   "metadata": {},
   "outputs": [
    {
     "data": {
      "image/png": "[encoded data removed]",
      "text/plain": [
       "<Figure size 1000x500 with 1 Axes>"
      ]
     },
     "metadata": {},
     "output_type": "display_data"
    }
   ],
   "source": [
    "plt.figure(figsize=(10,5))\n",
    "sns.countplot(x=data.Source,hue=data.Status,palette=['orange','green'])\n",
    "plt.title(\" Sourse  vs. Status \")\n",
    "plt.xticks(rotation=90)\n",
    "plt.show()"
   ]
  },
  {
   "cell_type": "markdown",
   "id": "7f166abf",
   "metadata": {},
   "source": [
    "### Insights (Sources vs Status) :-\n",
    "\n",
    "- Leads Generated by the following have high potential are :\n",
    "                                      - by Recommendation \n",
    "                                      - Customer Referral \n",
    "                                      - Existing Client \n",
    "                                      - Existing Customer\n",
    "                                      - Personal Contact\n",
    "                                      \n",
    "- Leads Generated By the following have approximately 50% Chance for High  Potential are :\n",
    "          - Website\n",
    "          - Live Chat Google Organic\n",
    "          - Call\n",
    "          - Live Chat Direct\n",
    "          - Live Chat Blog\n",
    "          - Live Chat PPC"
   ]
  },
  {
   "cell_type": "code",
   "execution_count": 23,
   "id": "f464b1ce",
   "metadata": {},
   "outputs": [
    {
     "data": {
      "image/png": "[encoded data removed]",
      "text/plain": [
       "<Figure size 1000x500 with 1 Axes>"
      ]
     },
     "metadata": {},
     "output_type": "display_data"
    }
   ],
   "source": [
    "plt.figure(figsize=(10,5))\n",
    "sns.countplot(x=data.Sales_Agent,hue=data.Status,palette=['orange','green'])\n",
    "plt.title(\" Sales_Agent  vs. Status \")\n",
    "plt.xticks(rotation=90)\n",
    "plt.show()"
   ]
  },
  {
   "cell_type": "markdown",
   "id": "7d82babf",
   "metadata": {},
   "source": [
    "### Insights (Agent vs Potential):-\n",
    "- Leads Generated by Sales-Agent-9 have High Potential.\n",
    "- Leads Generated by Sales-Agent-10 and Sales-Agent-1 have Low Potential.\n",
    "- Leads Generated by other Agents have more than 40 % High Potential ."
   ]
  },
  {
   "cell_type": "code",
   "execution_count": 24,
   "id": "7ca51a28",
   "metadata": {},
   "outputs": [
    {
     "data": {
      "image/png": "[encoded data removed]",
      "text/plain": [
       "<Figure size 1000x500 with 1 Axes>"
      ]
     },
     "metadata": {},
     "output_type": "display_data"
    }
   ],
   "source": [
    "plt.figure(figsize=(10,5))\n",
    "sns.countplot(x=data.Location,hue=data.Status,palette=['orange','green'])\n",
    "plt.title(\" Location vs. Status \")\n",
    "plt.xticks(rotation=90)\n",
    "plt.show()"
   ]
  },
  {
   "cell_type": "markdown",
   "id": "94de5d1c",
   "metadata": {},
   "source": [
    "### Insights (Loction vs Status ) :-\n",
    "-  Leads Generated in Bangalore , UAE , UK , USA and AUSTRALIA having High Potential.\n",
    "- only 40 % Leads have  High potential which Leads are Generated in Mumbai , Delhi , Hydrabad , Chennai and remaining 60 % has Low Potential"
   ]
  },
  {
   "cell_type": "code",
   "execution_count": 25,
   "id": "66a6b943",
   "metadata": {},
   "outputs": [
    {
     "data": {
      "image/png": "[encoded data removed]",
      "text/plain": [
       "<Figure size 1000x500 with 1 Axes>"
      ]
     },
     "metadata": {},
     "output_type": "display_data"
    }
   ],
   "source": [
    "plt.figure(figsize=(10,5))\n",
    "sns.countplot(x=data.Delivery_Mode,hue=data.Status,palette=['orange','green'])\n",
    "plt.title(\" Delivery_Mode vs. Status \")\n",
    "plt.xticks(rotation=90)\n",
    "plt.show()"
   ]
  },
  {
   "cell_type": "markdown",
   "id": "635bb913",
   "metadata": {},
   "source": [
    "### Insights (Delivery Mode vs. Status )  :-\n",
    "- Leads who choose delivery MODE-5 , they have low chance of having High Potential as compared to other.\n",
    "- High Potential Leads choose MODE-4 as delivery mode.n"
   ]
  },
  {
   "cell_type": "code",
   "execution_count": 26,
   "id": "4a41d31d",
   "metadata": {},
   "outputs": [
    {
     "data": {
      "image/png": "[encoded data removed]",
      "text/plain": [
       "<Figure size 1000x500 with 1 Axes>"
      ]
     },
     "metadata": {},
     "output_type": "display_data"
    }
   ],
   "source": [
    "plt.figure(figsize=(10,5))\n",
    "sns.countplot(x=data.Month,hue=data.Status,palette=['orange','green'])\n",
    "plt.title(\" Month Name vs. Status \")\n",
    "plt.xticks(rotation=90)\n",
    "plt.show()"
   ]
  },
  {
   "cell_type": "markdown",
   "id": "b02e7203",
   "metadata": {},
   "source": [
    "### Insights (Month Name  vs  Status) :-\n",
    "- Leads Not dependent on Month for High Potential or Low Potential"
   ]
  },
  {
   "cell_type": "markdown",
   "id": "0ea2839a",
   "metadata": {},
   "source": [
    "# --- :  DATA   PREPROCESSING  : ---"
   ]
  },
  {
   "cell_type": "code",
   "execution_count": 29,
   "id": "f9acee2f",
   "metadata": {},
   "outputs": [
    {
     "data": {
      "text/html": [
       "<div>\n",
       "<style scoped>\n",
       "    .dataframe tbody tr th:only-of-type {\n",
       "        vertical-align: middle;\n",
       "    }\n",
       "\n",
       "    .dataframe tbody tr th {\n",
       "        vertical-align: top;\n",
       "    }\n",
       "\n",
       "    .dataframe thead th {\n",
       "        text-align: right;\n",
       "    }\n",
       "</style>\n",
       "<table border=\"1\" class=\"dataframe\">\n",
       "  <thead>\n",
       "    <tr style=\"text-align: right;\">\n",
       "      <th></th>\n",
       "      <th>Product_ID</th>\n",
       "      <th>Source</th>\n",
       "      <th>Sales_Agent</th>\n",
       "      <th>Location</th>\n",
       "      <th>Delivery_Mode</th>\n",
       "      <th>Status</th>\n",
       "      <th>Year</th>\n",
       "      <th>Month</th>\n",
       "      <th>Day</th>\n",
       "      <th>Hour</th>\n",
       "      <th>Minutes</th>\n",
       "    </tr>\n",
       "  </thead>\n",
       "  <tbody>\n",
       "    <tr>\n",
       "      <th>0</th>\n",
       "      <td></td>\n",
       "      <td>Website</td>\n",
       "      <td>Sales-Agent-11</td>\n",
       "      <td></td>\n",
       "      <td>Mode-5</td>\n",
       "      <td>Low Potential</td>\n",
       "      <td>2018</td>\n",
       "      <td>11</td>\n",
       "      <td>14</td>\n",
       "      <td>10</td>\n",
       "      <td>5</td>\n",
       "    </tr>\n",
       "    <tr>\n",
       "      <th>1</th>\n",
       "      <td></td>\n",
       "      <td>Website</td>\n",
       "      <td>Sales-Agent-10</td>\n",
       "      <td></td>\n",
       "      <td>Mode-5</td>\n",
       "      <td>Low Potential</td>\n",
       "      <td>2018</td>\n",
       "      <td>11</td>\n",
       "      <td>14</td>\n",
       "      <td>9</td>\n",
       "      <td>22</td>\n",
       "    </tr>\n",
       "    <tr>\n",
       "      <th>2</th>\n",
       "      <td></td>\n",
       "      <td>Website</td>\n",
       "      <td>Sales-Agent-10</td>\n",
       "      <td></td>\n",
       "      <td>Mode-5</td>\n",
       "      <td>Low Potential</td>\n",
       "      <td>2018</td>\n",
       "      <td>11</td>\n",
       "      <td>14</td>\n",
       "      <td>9</td>\n",
       "      <td>21</td>\n",
       "    </tr>\n",
       "    <tr>\n",
       "      <th>3</th>\n",
       "      <td></td>\n",
       "      <td>Website</td>\n",
       "      <td>Sales-Agent-10</td>\n",
       "      <td></td>\n",
       "      <td>Mode-5</td>\n",
       "      <td>Low Potential</td>\n",
       "      <td>2018</td>\n",
       "      <td>11</td>\n",
       "      <td>14</td>\n",
       "      <td>8</td>\n",
       "      <td>46</td>\n",
       "    </tr>\n",
       "    <tr>\n",
       "      <th>4</th>\n",
       "      <td></td>\n",
       "      <td>Website</td>\n",
       "      <td>Sales-Agent-10</td>\n",
       "      <td></td>\n",
       "      <td>Mode-5</td>\n",
       "      <td>Low Potential</td>\n",
       "      <td>2018</td>\n",
       "      <td>11</td>\n",
       "      <td>14</td>\n",
       "      <td>7</td>\n",
       "      <td>34</td>\n",
       "    </tr>\n",
       "  </tbody>\n",
       "</table>\n",
       "</div>"
      ],
      "text/plain": [
       "  Product_ID   Source     Sales_Agent Location Delivery_Mode         Status  \\\n",
       "0             Website  Sales-Agent-11                 Mode-5  Low Potential   \n",
       "1             Website  Sales-Agent-10                 Mode-5  Low Potential   \n",
       "2             Website  Sales-Agent-10                 Mode-5  Low Potential   \n",
       "3             Website  Sales-Agent-10                 Mode-5  Low Potential   \n",
       "4             Website  Sales-Agent-10                 Mode-5  Low Potential   \n",
       "\n",
       "   Year  Month  Day  Hour  Minutes  \n",
       "0  2018     11   14    10        5  \n",
       "1  2018     11   14     9       22  \n",
       "2  2018     11   14     9       21  \n",
       "3  2018     11   14     8       46  \n",
       "4  2018     11   14     7       34  "
      ]
     },
     "execution_count": 29,
     "metadata": {},
     "output_type": "execute_result"
    }
   ],
   "source": [
    "data.head()"
   ]
  },
  {
   "cell_type": "code",
   "execution_count": 28,
   "id": "a399ff02",
   "metadata": {},
   "outputs": [],
   "source": [
    "# drop unnecessary columns which we created.\n",
    "data.drop(['Created','Mobile','EMAIL'],axis=1,inplace=True)"
   ]
  },
  {
   "cell_type": "markdown",
   "id": "3b8c2ba4",
   "metadata": {},
   "source": [
    "## ( i ) . Handle currupt and Null Values :-"
   ]
  },
  {
   "cell_type": "code",
   "execution_count": 30,
   "id": "b683d3c0",
   "metadata": {},
   "outputs": [
    {
     "data": {
      "text/plain": [
       "Product_ID       0\n",
       "Source           0\n",
       "Sales_Agent      0\n",
       "Location         0\n",
       "Delivery_Mode    0\n",
       "Status           0\n",
       "Year             0\n",
       "Month            0\n",
       "Day              0\n",
       "Hour             0\n",
       "Minutes          0\n",
       "dtype: int64"
      ]
     },
     "execution_count": 30,
     "metadata": {},
     "output_type": "execute_result"
    }
   ],
   "source": [
    "# Find null Values present in each columns and handle them\n",
    "data.isnull().sum()"
   ]
  },
  {
   "cell_type": "code",
   "execution_count": 31,
   "id": "cbe00a41",
   "metadata": {},
   "outputs": [],
   "source": [
    "# Change Space value with NaN.\n",
    "for i in data.columns :\n",
    "    data.loc[data[i]=='',i] = np.nan"
   ]
  },
  {
   "cell_type": "code",
   "execution_count": 32,
   "id": "e65d5c25",
   "metadata": {},
   "outputs": [
    {
     "data": {
      "text/plain": [
       "Product_ID       58\n",
       "Source           17\n",
       "Sales_Agent      23\n",
       "Location         58\n",
       "Delivery_Mode     0\n",
       "Status            0\n",
       "Year              0\n",
       "Month             0\n",
       "Day               0\n",
       "Hour              0\n",
       "Minutes           0\n",
       "dtype: int64"
      ]
     },
     "execution_count": 32,
     "metadata": {},
     "output_type": "execute_result"
    }
   ],
   "source": [
    "# Find null Values present in each columns and handle them\n",
    "data.isnull().sum()"
   ]
  },
  {
   "cell_type": "code",
   "execution_count": 33,
   "id": "b60919d5",
   "metadata": {},
   "outputs": [],
   "source": [
    "# Product_ID is in object so, change it into float data type\n",
    "data['Product_ID'] = data['Product_ID'].astype('float')"
   ]
  },
  {
   "cell_type": "code",
   "execution_count": 34,
   "id": "13995fdf",
   "metadata": {},
   "outputs": [],
   "source": [
    "## null values are there , so handle them.\n",
    "data.loc[data['Product_ID'].isnull(),'Product_ID'] = data['Product_ID'].median()\n",
    "\n",
    "data.loc[data['Source'].isnull(),'Source'] = data['Source'].mode()[0]\n",
    "data.loc[data['Sales_Agent'].isnull(),'Sales_Agent'] = data['Sales_Agent'].mode()[0]\n",
    "data.loc[data['Location'].isnull(),'Location'] = data['Location'].mode()[0]"
   ]
  },
  {
   "cell_type": "markdown",
   "id": "161f6831",
   "metadata": {},
   "source": [
    "##  (ii)  . CATEGORICAL TO NUMERICAL :-"
   ]
  },
  {
   "cell_type": "markdown",
   "id": "b7fdbece",
   "metadata": {},
   "source": [
    "#### Product_ID :-"
   ]
  },
  {
   "cell_type": "code",
   "execution_count": 142,
   "id": "dc5e6d76",
   "metadata": {},
   "outputs": [
    {
     "data": {
      "text/plain": [
       "18.0    1767\n",
       "15.0    1494\n",
       "19.0    1189\n",
       "9.0      992\n",
       "27.0     739\n",
       "5.0      486\n",
       "10.0     168\n",
       "1.0      105\n",
       "20.0     102\n",
       "25.0      90\n",
       "21.0      66\n",
       "2.0       38\n",
       "12.0      36\n",
       "26.0      31\n",
       "14.0      27\n",
       "11.0      12\n",
       "22.0       8\n",
       "3.0        7\n",
       "17.0       7\n",
       "6.0        7\n",
       "8.0        6\n",
       "13.0       5\n",
       "24.0       3\n",
       "16.0       3\n",
       "23.0       2\n",
       "0.0        2\n",
       "28.0       1\n",
       "7.0        1\n",
       "4.0        1\n",
       "Name: Product_ID, dtype: int64"
      ]
     },
     "execution_count": 142,
     "metadata": {},
     "output_type": "execute_result"
    }
   ],
   "source": [
    "# Value count for Source\n",
    "data.Product_ID.value_counts()"
   ]
  },
  {
   "cell_type": "code",
   "execution_count": null,
   "id": "fccd4107",
   "metadata": {},
   "outputs": [],
   "source": [
    "data.Product_ID.replacel({22.0 : 0.0,3.0 : 0.0 , 17.0:0.0 , 6.0:0.0 , 8.0:0.0 , 13.0:0.0 ,\n",
    "                          24.0:0.0 , 16.0:0.0 , 23.0:0.0 , 0.0:0.0 , 28.0:0.0 , 7.0:0.0 , 4.0:0.0})"
   ]
  },
  {
   "cell_type": "code",
   "execution_count": null,
   "id": "3c54ed63",
   "metadata": {},
   "outputs": [],
   "source": []
  },
  {
   "cell_type": "markdown",
   "id": "5c30f1e9",
   "metadata": {},
   "source": [
    "#### Source :-"
   ]
  },
  {
   "cell_type": "code",
   "execution_count": 35,
   "id": "6c44c771",
   "metadata": {},
   "outputs": [
    {
     "data": {
      "text/plain": [
       "Call                             2564\n",
       "Live Chat-Direct                 1834\n",
       "Website                          1594\n",
       "Live Chat-Google Organic          274\n",
       "Live Chat -PPC                    249\n",
       "Live Chat-Blog                    237\n",
       "Customer Referral                 180\n",
       "US Website                        137\n",
       "Just Dial                          56\n",
       "Existing Client                    51\n",
       "Personal Contact                   50\n",
       "Live Chat-CPC                      50\n",
       "By Recommendation                  32\n",
       "CRM form                           23\n",
       "Existing Customer                  22\n",
       "Live Chat-Google Ads               21\n",
       "Campaign                           19\n",
       "E-mail Campaign                    12\n",
       "Live Chat-Adwords Remarketing       7\n",
       "Live Chat-Quora                     2\n",
       "Other                               2\n",
       "SMS Campaign                        2\n",
       "Live Chat-Youtube                   2\n",
       "E-Mail Message                      1\n",
       "Live Chat-Justdial                  1\n",
       "Name: Source, dtype: int64"
      ]
     },
     "execution_count": 35,
     "metadata": {},
     "output_type": "execute_result"
    }
   ],
   "source": [
    "# Value count for Source\n",
    "data.Source.value_counts()"
   ]
  },
  {
   "cell_type": "code",
   "execution_count": 36,
   "id": "94731232",
   "metadata": {},
   "outputs": [],
   "source": [
    "# combine below 12 value counts into one variable for better prediction\n",
    "data.Source.replace({\"Live Chat-Adwords Remarketing\":\"Other\",\"Live Chat-Quora\":\"Other\",\"SMS Campaign\":\"Other\",\n",
    "                     \"Live Chat-Youtube\":\"Other\",\"E-Mail Message\":\"Other\",\"Live Chat-Justdial\":\"Other\"},inplace=True)"
   ]
  },
  {
   "cell_type": "code",
   "execution_count": 37,
   "id": "953ac5f1",
   "metadata": {},
   "outputs": [
    {
     "data": {
      "text/plain": [
       "Call                        2564\n",
       "Live Chat-Direct            1834\n",
       "Website                     1594\n",
       "Live Chat-Google Organic     274\n",
       "Live Chat -PPC               249\n",
       "Live Chat-Blog               237\n",
       "Customer Referral            180\n",
       "US Website                   137\n",
       "Just Dial                     56\n",
       "Existing Client               51\n",
       "Live Chat-CPC                 50\n",
       "Personal Contact              50\n",
       "By Recommendation             32\n",
       "CRM form                      23\n",
       "Existing Customer             22\n",
       "Live Chat-Google Ads          21\n",
       "Campaign                      19\n",
       "Other                         17\n",
       "E-mail Campaign               12\n",
       "Name: Source, dtype: int64"
      ]
     },
     "execution_count": 37,
     "metadata": {},
     "output_type": "execute_result"
    }
   ],
   "source": [
    "data.Source.value_counts()"
   ]
  },
  {
   "cell_type": "code",
   "execution_count": 38,
   "id": "ff7d0cad",
   "metadata": {},
   "outputs": [],
   "source": [
    "# manually change all categorical data to numerical\n",
    "data.Source.replace({\"Call\":18,\"Live Chat-Direct\":17,\"Website\":16,\"Live Chat-Google Organic\":15,\"Live Chat -PPC\":14,\n",
    "      \"Live Chat-Blog\":13,\"Customer Referral\":12,\"US Website\":11,\"Just Dial\":10,\"Existing Client\":9,\"Live Chat-CPC\":8,\n",
    "      \"Personal Contact\":7,\"By Recommendation\":6,\"CRM form\":5,\"Existing Customer\":4,\"Live Chat-Google Ads\":3,\"Campaign\":2,\n",
    "      \"Other\":1,\"E-mail Campaign\":0},inplace=True)"
   ]
  },
  {
   "cell_type": "markdown",
   "id": "961c6b61",
   "metadata": {},
   "source": [
    "#### Sales Agents :-"
   ]
  },
  {
   "cell_type": "code",
   "execution_count": 39,
   "id": "c162dba8",
   "metadata": {},
   "outputs": [
    {
     "data": {
      "text/plain": [
       "Sales-Agent-4     1523\n",
       "Sales-Agent-11    1420\n",
       "Sales-Agent-5     1190\n",
       "Sales-Agent-9      879\n",
       "Sales-Agent-3      781\n",
       "Sales-Agent-7      736\n",
       "Sales-Agent-2      389\n",
       "Sales-Agent-12     269\n",
       "Sales-Agent-6      114\n",
       "Sales-Agent-8       68\n",
       "Sales-Agent-10      49\n",
       "Sales-Agent-1        4\n",
       "Name: Sales_Agent, dtype: int64"
      ]
     },
     "execution_count": 39,
     "metadata": {},
     "output_type": "execute_result"
    }
   ],
   "source": [
    "data.Sales_Agent.value_counts()"
   ]
  },
  {
   "cell_type": "code",
   "execution_count": 41,
   "id": "501b17c3",
   "metadata": {},
   "outputs": [],
   "source": [
    "# Manually convert Categorical to numerical\n",
    "data.Sales_Agent.replace({\"Sales-Agent-4\":11,\"Sales-Agent-11\":10,\"Sales-Agent-5\":9,\"Sales-Agent-9\":8,\"Sales-Agent-3\":7,\n",
    "\"Sales-Agent-7\":6,\"Sales-Agent-2\":5,\"Sales-Agent-12\":4,\"Sales-Agent-6\":3,\"Sales-Agent-8\":2,\"Sales-Agent-10\":1,\n",
    "                         \"Sales-Agent-1\":0},inplace=True)"
   ]
  },
  {
   "cell_type": "markdown",
   "id": "d7a84fe0",
   "metadata": {},
   "source": [
    "#### Location:-"
   ]
  },
  {
   "cell_type": "code",
   "execution_count": 42,
   "id": "88511487",
   "metadata": {},
   "outputs": [
    {
     "data": {
      "text/plain": [
       "Other Locations    2558\n",
       "Bangalore          2084\n",
       "Chennai             909\n",
       "Hyderabad           528\n",
       "Delhi               471\n",
       "Mumbai              402\n",
       "Pune                142\n",
       "UAE                  79\n",
       "Trivandrum           58\n",
       "Kolkata              55\n",
       "USA                  45\n",
       "UK                   41\n",
       "AUSTRALIA            25\n",
       "Singapore            17\n",
       "Malaysia              4\n",
       "EUROPE                3\n",
       "Howrah                1\n",
       "Name: Location, dtype: int64"
      ]
     },
     "execution_count": 42,
     "metadata": {},
     "output_type": "execute_result"
    }
   ],
   "source": [
    "# value counts for Locations\n",
    "data.Location.value_counts()"
   ]
  },
  {
   "cell_type": "code",
   "execution_count": 43,
   "id": "df4ba8da",
   "metadata": {},
   "outputs": [],
   "source": [
    "# Combine low value counts Locations into Othere Location\n",
    "data.Location.replace({\"Malaysia\":\"Other Locations\",\"EUROPE\":\"Other Locations\",\"Howrah\":\"Other Locations\"},inplace=True)"
   ]
  },
  {
   "cell_type": "code",
   "execution_count": 44,
   "id": "a5be584a",
   "metadata": {},
   "outputs": [],
   "source": [
    "# Change categorical to numerical\n",
    "data.Location.replace({\"Other Locations\":13,\"Bangalore\":12,\"Chennai\":11,\"Hyderabad\":10,\"Delhi\":9,\"Mumbai\":8,\"Pune\":7,\"UAE\":6,\n",
    "\"Trivandrum\":5,\"Kolkata\":4,\"USA\":3,\"UK\":2,\"AUSTRALIA\":1,\"Singapore\":0},inplace=True)"
   ]
  },
  {
   "cell_type": "markdown",
   "id": "ffc195b5",
   "metadata": {},
   "source": [
    "#### Delivery Mode :-"
   ]
  },
  {
   "cell_type": "code",
   "execution_count": 45,
   "id": "7c503888",
   "metadata": {},
   "outputs": [
    {
     "data": {
      "text/plain": [
       "Mode-5    2975\n",
       "Mode-1    2627\n",
       "Mode-3    1688\n",
       "Mode-4     121\n",
       "Mode-2      11\n",
       "Name: Delivery_Mode, dtype: int64"
      ]
     },
     "execution_count": 45,
     "metadata": {},
     "output_type": "execute_result"
    }
   ],
   "source": [
    "# value counts for Delivery mode\n",
    "data.Delivery_Mode.value_counts()"
   ]
  },
  {
   "cell_type": "code",
   "execution_count": 46,
   "id": "1c366c28",
   "metadata": {},
   "outputs": [],
   "source": [
    "# Manually convert Categorical to numerical\n",
    "data.Delivery_Mode.replace({\"Mode-5\":4,\"Mode-1\":3,\"Mode-3\":2,\"Mode-4\":1,\"Mode-2\":0},inplace=True)"
   ]
  },
  {
   "cell_type": "markdown",
   "id": "5821dfde",
   "metadata": {},
   "source": [
    "#### Status :-"
   ]
  },
  {
   "cell_type": "code",
   "execution_count": 47,
   "id": "eda77565",
   "metadata": {},
   "outputs": [
    {
     "data": {
      "text/plain": [
       "Low Potential     5219\n",
       "High Potential    2203\n",
       "Name: Status, dtype: int64"
      ]
     },
     "execution_count": 47,
     "metadata": {},
     "output_type": "execute_result"
    }
   ],
   "source": [
    "# Value counts for Status\n",
    "data.Status.value_counts()"
   ]
  },
  {
   "cell_type": "code",
   "execution_count": 48,
   "id": "86ccf976",
   "metadata": {},
   "outputs": [],
   "source": [
    "# manually change to numerical\n",
    "data['Status'] = data['Status'].map({'High Potential': 0 ,'Low Potential': 1})"
   ]
  },
  {
   "cell_type": "markdown",
   "id": "6634bf50",
   "metadata": {},
   "source": [
    "## (iii) . Handle Outlier :-"
   ]
  },
  {
   "cell_type": "code",
   "execution_count": 49,
   "id": "f24394e2",
   "metadata": {},
   "outputs": [
    {
     "data": {
      "text/html": [
       "<div>\n",
       "<style scoped>\n",
       "    .dataframe tbody tr th:only-of-type {\n",
       "        vertical-align: middle;\n",
       "    }\n",
       "\n",
       "    .dataframe tbody tr th {\n",
       "        vertical-align: top;\n",
       "    }\n",
       "\n",
       "    .dataframe thead th {\n",
       "        text-align: right;\n",
       "    }\n",
       "</style>\n",
       "<table border=\"1\" class=\"dataframe\">\n",
       "  <thead>\n",
       "    <tr style=\"text-align: right;\">\n",
       "      <th></th>\n",
       "      <th>Product_ID</th>\n",
       "      <th>Source</th>\n",
       "      <th>Sales_Agent</th>\n",
       "      <th>Location</th>\n",
       "      <th>Delivery_Mode</th>\n",
       "      <th>Status</th>\n",
       "      <th>Year</th>\n",
       "      <th>Month</th>\n",
       "      <th>Day</th>\n",
       "      <th>Hour</th>\n",
       "      <th>Minutes</th>\n",
       "    </tr>\n",
       "  </thead>\n",
       "  <tbody>\n",
       "    <tr>\n",
       "      <th>0</th>\n",
       "      <td>18.0</td>\n",
       "      <td>16</td>\n",
       "      <td>10</td>\n",
       "      <td>13</td>\n",
       "      <td>4</td>\n",
       "      <td>1</td>\n",
       "      <td>2018.0</td>\n",
       "      <td>11.0</td>\n",
       "      <td>14.0</td>\n",
       "      <td>10.0</td>\n",
       "      <td>5.0</td>\n",
       "    </tr>\n",
       "    <tr>\n",
       "      <th>1</th>\n",
       "      <td>18.0</td>\n",
       "      <td>16</td>\n",
       "      <td>1</td>\n",
       "      <td>13</td>\n",
       "      <td>4</td>\n",
       "      <td>1</td>\n",
       "      <td>2018.0</td>\n",
       "      <td>11.0</td>\n",
       "      <td>14.0</td>\n",
       "      <td>9.0</td>\n",
       "      <td>22.0</td>\n",
       "    </tr>\n",
       "    <tr>\n",
       "      <th>2</th>\n",
       "      <td>18.0</td>\n",
       "      <td>16</td>\n",
       "      <td>1</td>\n",
       "      <td>13</td>\n",
       "      <td>4</td>\n",
       "      <td>1</td>\n",
       "      <td>2018.0</td>\n",
       "      <td>11.0</td>\n",
       "      <td>14.0</td>\n",
       "      <td>9.0</td>\n",
       "      <td>21.0</td>\n",
       "    </tr>\n",
       "    <tr>\n",
       "      <th>3</th>\n",
       "      <td>18.0</td>\n",
       "      <td>16</td>\n",
       "      <td>1</td>\n",
       "      <td>13</td>\n",
       "      <td>4</td>\n",
       "      <td>1</td>\n",
       "      <td>2018.0</td>\n",
       "      <td>11.0</td>\n",
       "      <td>14.0</td>\n",
       "      <td>8.0</td>\n",
       "      <td>46.0</td>\n",
       "    </tr>\n",
       "    <tr>\n",
       "      <th>4</th>\n",
       "      <td>18.0</td>\n",
       "      <td>16</td>\n",
       "      <td>1</td>\n",
       "      <td>13</td>\n",
       "      <td>4</td>\n",
       "      <td>1</td>\n",
       "      <td>2018.0</td>\n",
       "      <td>11.0</td>\n",
       "      <td>14.0</td>\n",
       "      <td>7.0</td>\n",
       "      <td>34.0</td>\n",
       "    </tr>\n",
       "  </tbody>\n",
       "</table>\n",
       "</div>"
      ],
      "text/plain": [
       "   Product_ID  Source  Sales_Agent  Location  Delivery_Mode  Status    Year  \\\n",
       "0        18.0      16           10        13              4       1  2018.0   \n",
       "1        18.0      16            1        13              4       1  2018.0   \n",
       "2        18.0      16            1        13              4       1  2018.0   \n",
       "3        18.0      16            1        13              4       1  2018.0   \n",
       "4        18.0      16            1        13              4       1  2018.0   \n",
       "\n",
       "   Month   Day  Hour  Minutes  \n",
       "0   11.0  14.0  10.0      5.0  \n",
       "1   11.0  14.0   9.0     22.0  \n",
       "2   11.0  14.0   9.0     21.0  \n",
       "3   11.0  14.0   8.0     46.0  \n",
       "4   11.0  14.0   7.0     34.0  "
      ]
     },
     "execution_count": 49,
     "metadata": {},
     "output_type": "execute_result"
    }
   ],
   "source": [
    "data.head()"
   ]
  },
  {
   "cell_type": "code",
   "execution_count": 50,
   "id": "e0198906",
   "metadata": {},
   "outputs": [
    {
     "data": {
      "image/png": "[encoded data removed]",
      "text/plain": [
       "<Figure size 1000x1000 with 11 Axes>"
      ]
     },
     "metadata": {},
     "output_type": "display_data"
    }
   ],
   "source": [
    "plt.figure(figsize=(10,10))\n",
    "plotnumber = 1\n",
    "for i in data.columns:\n",
    "    plt.subplot(4,3,plotnumber)\n",
    "    sns.boxplot(x = data[i])\n",
    "    plotnumber = plotnumber + 1\n",
    "plt.tight_layout()"
   ]
  },
  {
   "cell_type": "markdown",
   "id": "7ef64ed2",
   "metadata": {},
   "source": [
    "#### Insights from Box-plot :\n",
    "- we can not change any thing because these all are descrete values"
   ]
  },
  {
   "cell_type": "markdown",
   "id": "a74228d7",
   "metadata": {},
   "source": [
    "## Scaling data"
   ]
  },
  {
   "cell_type": "code",
   "execution_count": 51,
   "id": "b53eac48",
   "metadata": {},
   "outputs": [],
   "source": [
    "from sklearn.preprocessing import StandardScaler\n",
    "scaler = StandardScaler()\n",
    "\n",
    "data[['Month','Day','Hour','Minutes']] = pd.DataFrame(scaler.fit_transform(data[['Month','Day','Hour','Minutes']]))"
   ]
  },
  {
   "cell_type": "code",
   "execution_count": 52,
   "id": "1d3bc0ff",
   "metadata": {},
   "outputs": [
    {
     "data": {
      "text/html": [
       "<div>\n",
       "<style scoped>\n",
       "    .dataframe tbody tr th:only-of-type {\n",
       "        vertical-align: middle;\n",
       "    }\n",
       "\n",
       "    .dataframe tbody tr th {\n",
       "        vertical-align: top;\n",
       "    }\n",
       "\n",
       "    .dataframe thead th {\n",
       "        text-align: right;\n",
       "    }\n",
       "</style>\n",
       "<table border=\"1\" class=\"dataframe\">\n",
       "  <thead>\n",
       "    <tr style=\"text-align: right;\">\n",
       "      <th></th>\n",
       "      <th>Product_ID</th>\n",
       "      <th>Source</th>\n",
       "      <th>Sales_Agent</th>\n",
       "      <th>Location</th>\n",
       "      <th>Delivery_Mode</th>\n",
       "      <th>Status</th>\n",
       "      <th>Year</th>\n",
       "      <th>Month</th>\n",
       "      <th>Day</th>\n",
       "      <th>Hour</th>\n",
       "      <th>Minutes</th>\n",
       "    </tr>\n",
       "  </thead>\n",
       "  <tbody>\n",
       "    <tr>\n",
       "      <th>0</th>\n",
       "      <td>18.0</td>\n",
       "      <td>16</td>\n",
       "      <td>10</td>\n",
       "      <td>13</td>\n",
       "      <td>4</td>\n",
       "      <td>1</td>\n",
       "      <td>2018.0</td>\n",
       "      <td>1.543279</td>\n",
       "      <td>-0.264938</td>\n",
       "      <td>-0.821831</td>\n",
       "      <td>-1.365239</td>\n",
       "    </tr>\n",
       "    <tr>\n",
       "      <th>1</th>\n",
       "      <td>18.0</td>\n",
       "      <td>16</td>\n",
       "      <td>1</td>\n",
       "      <td>13</td>\n",
       "      <td>4</td>\n",
       "      <td>1</td>\n",
       "      <td>2018.0</td>\n",
       "      <td>1.543279</td>\n",
       "      <td>-0.264938</td>\n",
       "      <td>-1.068420</td>\n",
       "      <td>-0.382515</td>\n",
       "    </tr>\n",
       "    <tr>\n",
       "      <th>2</th>\n",
       "      <td>18.0</td>\n",
       "      <td>16</td>\n",
       "      <td>1</td>\n",
       "      <td>13</td>\n",
       "      <td>4</td>\n",
       "      <td>1</td>\n",
       "      <td>2018.0</td>\n",
       "      <td>1.543279</td>\n",
       "      <td>-0.264938</td>\n",
       "      <td>-1.068420</td>\n",
       "      <td>-0.440323</td>\n",
       "    </tr>\n",
       "    <tr>\n",
       "      <th>3</th>\n",
       "      <td>18.0</td>\n",
       "      <td>16</td>\n",
       "      <td>1</td>\n",
       "      <td>13</td>\n",
       "      <td>4</td>\n",
       "      <td>1</td>\n",
       "      <td>2018.0</td>\n",
       "      <td>1.543279</td>\n",
       "      <td>-0.264938</td>\n",
       "      <td>-1.315009</td>\n",
       "      <td>1.004859</td>\n",
       "    </tr>\n",
       "    <tr>\n",
       "      <th>4</th>\n",
       "      <td>18.0</td>\n",
       "      <td>16</td>\n",
       "      <td>1</td>\n",
       "      <td>13</td>\n",
       "      <td>4</td>\n",
       "      <td>1</td>\n",
       "      <td>2018.0</td>\n",
       "      <td>1.543279</td>\n",
       "      <td>-0.264938</td>\n",
       "      <td>-1.561598</td>\n",
       "      <td>0.311172</td>\n",
       "    </tr>\n",
       "  </tbody>\n",
       "</table>\n",
       "</div>"
      ],
      "text/plain": [
       "   Product_ID  Source  Sales_Agent  Location  Delivery_Mode  Status    Year  \\\n",
       "0        18.0      16           10        13              4       1  2018.0   \n",
       "1        18.0      16            1        13              4       1  2018.0   \n",
       "2        18.0      16            1        13              4       1  2018.0   \n",
       "3        18.0      16            1        13              4       1  2018.0   \n",
       "4        18.0      16            1        13              4       1  2018.0   \n",
       "\n",
       "      Month       Day      Hour   Minutes  \n",
       "0  1.543279 -0.264938 -0.821831 -1.365239  \n",
       "1  1.543279 -0.264938 -1.068420 -0.382515  \n",
       "2  1.543279 -0.264938 -1.068420 -0.440323  \n",
       "3  1.543279 -0.264938 -1.315009  1.004859  \n",
       "4  1.543279 -0.264938 -1.561598  0.311172  "
      ]
     },
     "execution_count": 52,
     "metadata": {},
     "output_type": "execute_result"
    }
   ],
   "source": [
    "data.head()"
   ]
  },
  {
   "cell_type": "markdown",
   "id": "770675e4",
   "metadata": {},
   "source": [
    "# --- :  FEATURE SELECTION  : ---"
   ]
  },
  {
   "cell_type": "markdown",
   "id": "5992fd76",
   "metadata": {},
   "source": [
    "### ( i ) . Correlation Checking "
   ]
  },
  {
   "cell_type": "code",
   "execution_count": 53,
   "id": "878d17a2",
   "metadata": {},
   "outputs": [
    {
     "data": {
      "image/png": "[encoded data removed]",
      "text/plain": [
       "<Figure size 1500x600 with 2 Axes>"
      ]
     },
     "metadata": {},
     "output_type": "display_data"
    }
   ],
   "source": [
    "# Plot heatmap / corelation map to check corelation\n",
    "plt.figure(figsize=(15,6))\n",
    "sns.heatmap(data.corr(),annot=True)\n",
    "plt.show()"
   ]
  },
  {
   "cell_type": "markdown",
   "id": "e69e7a12",
   "metadata": {},
   "source": [
    "### insights from Heatmap :-\n",
    "- Year has one value , so it's not required.\n",
    "- Minutes & Day_name has also little or no corelation with target class."
   ]
  },
  {
   "cell_type": "markdown",
   "id": "6787dec2",
   "metadata": {},
   "source": [
    "### ( ii ) Duplicate Value checking"
   ]
  },
  {
   "cell_type": "code",
   "execution_count": 54,
   "id": "2c01a785",
   "metadata": {},
   "outputs": [
    {
     "data": {
      "text/plain": [
       "27"
      ]
     },
     "execution_count": 54,
     "metadata": {},
     "output_type": "execute_result"
    }
   ],
   "source": [
    "# Calculate Total Duplicate values\n",
    "data.duplicated().sum()"
   ]
  },
  {
   "cell_type": "code",
   "execution_count": 55,
   "id": "3a03141a",
   "metadata": {},
   "outputs": [
    {
     "data": {
      "text/plain": [
       "(7422, 11)"
      ]
     },
     "execution_count": 55,
     "metadata": {},
     "output_type": "execute_result"
    }
   ],
   "source": [
    "# Drop Duplicate Values for accurate prediction\n",
    "data.shape"
   ]
  },
  {
   "cell_type": "code",
   "execution_count": 56,
   "id": "fd1be80f",
   "metadata": {},
   "outputs": [],
   "source": [
    "# Drop duplicate values to increase model accuracy\n",
    "data.drop_duplicates(inplace=True)"
   ]
  },
  {
   "cell_type": "code",
   "execution_count": 57,
   "id": "4a0fac39",
   "metadata": {},
   "outputs": [
    {
     "data": {
      "text/plain": [
       "(7395, 11)"
      ]
     },
     "execution_count": 57,
     "metadata": {},
     "output_type": "execute_result"
    }
   ],
   "source": [
    "# Drop Duplicate Values for accurate prediction\n",
    "data.shape"
   ]
  },
  {
   "cell_type": "code",
   "execution_count": 58,
   "id": "1d81326c",
   "metadata": {},
   "outputs": [
    {
     "data": {
      "text/html": [
       "<div>\n",
       "<style scoped>\n",
       "    .dataframe tbody tr th:only-of-type {\n",
       "        vertical-align: middle;\n",
       "    }\n",
       "\n",
       "    .dataframe tbody tr th {\n",
       "        vertical-align: top;\n",
       "    }\n",
       "\n",
       "    .dataframe thead th {\n",
       "        text-align: right;\n",
       "    }\n",
       "</style>\n",
       "<table border=\"1\" class=\"dataframe\">\n",
       "  <thead>\n",
       "    <tr style=\"text-align: right;\">\n",
       "      <th></th>\n",
       "      <th>Product_ID</th>\n",
       "      <th>Source</th>\n",
       "      <th>Sales_Agent</th>\n",
       "      <th>Location</th>\n",
       "      <th>Delivery_Mode</th>\n",
       "      <th>Status</th>\n",
       "      <th>Year</th>\n",
       "      <th>Month</th>\n",
       "      <th>Day</th>\n",
       "      <th>Hour</th>\n",
       "      <th>Minutes</th>\n",
       "    </tr>\n",
       "  </thead>\n",
       "  <tbody>\n",
       "    <tr>\n",
       "      <th>0</th>\n",
       "      <td>18.0</td>\n",
       "      <td>16</td>\n",
       "      <td>10</td>\n",
       "      <td>13</td>\n",
       "      <td>4</td>\n",
       "      <td>1</td>\n",
       "      <td>2018.0</td>\n",
       "      <td>1.543279</td>\n",
       "      <td>-0.264938</td>\n",
       "      <td>-0.821831</td>\n",
       "      <td>-1.365239</td>\n",
       "    </tr>\n",
       "    <tr>\n",
       "      <th>1</th>\n",
       "      <td>18.0</td>\n",
       "      <td>16</td>\n",
       "      <td>1</td>\n",
       "      <td>13</td>\n",
       "      <td>4</td>\n",
       "      <td>1</td>\n",
       "      <td>2018.0</td>\n",
       "      <td>1.543279</td>\n",
       "      <td>-0.264938</td>\n",
       "      <td>-1.068420</td>\n",
       "      <td>-0.382515</td>\n",
       "    </tr>\n",
       "    <tr>\n",
       "      <th>2</th>\n",
       "      <td>18.0</td>\n",
       "      <td>16</td>\n",
       "      <td>1</td>\n",
       "      <td>13</td>\n",
       "      <td>4</td>\n",
       "      <td>1</td>\n",
       "      <td>2018.0</td>\n",
       "      <td>1.543279</td>\n",
       "      <td>-0.264938</td>\n",
       "      <td>-1.068420</td>\n",
       "      <td>-0.440323</td>\n",
       "    </tr>\n",
       "    <tr>\n",
       "      <th>3</th>\n",
       "      <td>18.0</td>\n",
       "      <td>16</td>\n",
       "      <td>1</td>\n",
       "      <td>13</td>\n",
       "      <td>4</td>\n",
       "      <td>1</td>\n",
       "      <td>2018.0</td>\n",
       "      <td>1.543279</td>\n",
       "      <td>-0.264938</td>\n",
       "      <td>-1.315009</td>\n",
       "      <td>1.004859</td>\n",
       "    </tr>\n",
       "    <tr>\n",
       "      <th>4</th>\n",
       "      <td>18.0</td>\n",
       "      <td>16</td>\n",
       "      <td>1</td>\n",
       "      <td>13</td>\n",
       "      <td>4</td>\n",
       "      <td>1</td>\n",
       "      <td>2018.0</td>\n",
       "      <td>1.543279</td>\n",
       "      <td>-0.264938</td>\n",
       "      <td>-1.561598</td>\n",
       "      <td>0.311172</td>\n",
       "    </tr>\n",
       "  </tbody>\n",
       "</table>\n",
       "</div>"
      ],
      "text/plain": [
       "   Product_ID  Source  Sales_Agent  Location  Delivery_Mode  Status    Year  \\\n",
       "0        18.0      16           10        13              4       1  2018.0   \n",
       "1        18.0      16            1        13              4       1  2018.0   \n",
       "2        18.0      16            1        13              4       1  2018.0   \n",
       "3        18.0      16            1        13              4       1  2018.0   \n",
       "4        18.0      16            1        13              4       1  2018.0   \n",
       "\n",
       "      Month       Day      Hour   Minutes  \n",
       "0  1.543279 -0.264938 -0.821831 -1.365239  \n",
       "1  1.543279 -0.264938 -1.068420 -0.382515  \n",
       "2  1.543279 -0.264938 -1.068420 -0.440323  \n",
       "3  1.543279 -0.264938 -1.315009  1.004859  \n",
       "4  1.543279 -0.264938 -1.561598  0.311172  "
      ]
     },
     "execution_count": 58,
     "metadata": {},
     "output_type": "execute_result"
    }
   ],
   "source": [
    "data.head()"
   ]
  },
  {
   "cell_type": "code",
   "execution_count": 59,
   "id": "fd47a21e",
   "metadata": {},
   "outputs": [],
   "source": [
    "# Create dependent & Independent Features\n",
    "X = data.drop([\"Status\",\"Year\"],axis=1)\n",
    "y = data[\"Status\"]"
   ]
  },
  {
   "cell_type": "markdown",
   "id": "308c032b",
   "metadata": {},
   "source": [
    "### ( iii ) . Dependent & Independent variable Creating"
   ]
  },
  {
   "cell_type": "code",
   "execution_count": 60,
   "id": "0a9c8a24",
   "metadata": {},
   "outputs": [
    {
     "data": {
      "text/html": [
       "<div>\n",
       "<style scoped>\n",
       "    .dataframe tbody tr th:only-of-type {\n",
       "        vertical-align: middle;\n",
       "    }\n",
       "\n",
       "    .dataframe tbody tr th {\n",
       "        vertical-align: top;\n",
       "    }\n",
       "\n",
       "    .dataframe thead th {\n",
       "        text-align: right;\n",
       "    }\n",
       "</style>\n",
       "<table border=\"1\" class=\"dataframe\">\n",
       "  <thead>\n",
       "    <tr style=\"text-align: right;\">\n",
       "      <th></th>\n",
       "      <th>Product_ID</th>\n",
       "      <th>Source</th>\n",
       "      <th>Sales_Agent</th>\n",
       "      <th>Location</th>\n",
       "      <th>Delivery_Mode</th>\n",
       "      <th>Month</th>\n",
       "      <th>Day</th>\n",
       "      <th>Hour</th>\n",
       "      <th>Minutes</th>\n",
       "    </tr>\n",
       "  </thead>\n",
       "  <tbody>\n",
       "    <tr>\n",
       "      <th>7417</th>\n",
       "      <td>9.0</td>\n",
       "      <td>18</td>\n",
       "      <td>3</td>\n",
       "      <td>8</td>\n",
       "      <td>1</td>\n",
       "      <td>-1.124037</td>\n",
       "      <td>1.422931</td>\n",
       "      <td>-1.068420</td>\n",
       "      <td>0.947051</td>\n",
       "    </tr>\n",
       "    <tr>\n",
       "      <th>7418</th>\n",
       "      <td>15.0</td>\n",
       "      <td>18</td>\n",
       "      <td>4</td>\n",
       "      <td>13</td>\n",
       "      <td>4</td>\n",
       "      <td>-1.124037</td>\n",
       "      <td>1.422931</td>\n",
       "      <td>-1.068420</td>\n",
       "      <td>0.831437</td>\n",
       "    </tr>\n",
       "    <tr>\n",
       "      <th>7419</th>\n",
       "      <td>5.0</td>\n",
       "      <td>17</td>\n",
       "      <td>10</td>\n",
       "      <td>12</td>\n",
       "      <td>3</td>\n",
       "      <td>-1.124037</td>\n",
       "      <td>1.422931</td>\n",
       "      <td>-1.068420</td>\n",
       "      <td>-0.498130</td>\n",
       "    </tr>\n",
       "    <tr>\n",
       "      <th>7420</th>\n",
       "      <td>21.0</td>\n",
       "      <td>5</td>\n",
       "      <td>11</td>\n",
       "      <td>13</td>\n",
       "      <td>3</td>\n",
       "      <td>-1.124037</td>\n",
       "      <td>1.422931</td>\n",
       "      <td>-1.315009</td>\n",
       "      <td>-1.423046</td>\n",
       "    </tr>\n",
       "    <tr>\n",
       "      <th>7421</th>\n",
       "      <td>25.0</td>\n",
       "      <td>16</td>\n",
       "      <td>7</td>\n",
       "      <td>11</td>\n",
       "      <td>3</td>\n",
       "      <td>-1.124037</td>\n",
       "      <td>1.422931</td>\n",
       "      <td>-1.561598</td>\n",
       "      <td>1.467317</td>\n",
       "    </tr>\n",
       "  </tbody>\n",
       "</table>\n",
       "</div>"
      ],
      "text/plain": [
       "      Product_ID  Source  Sales_Agent  Location  Delivery_Mode     Month  \\\n",
       "7417         9.0      18            3         8              1 -1.124037   \n",
       "7418        15.0      18            4        13              4 -1.124037   \n",
       "7419         5.0      17           10        12              3 -1.124037   \n",
       "7420        21.0       5           11        13              3 -1.124037   \n",
       "7421        25.0      16            7        11              3 -1.124037   \n",
       "\n",
       "           Day      Hour   Minutes  \n",
       "7417  1.422931 -1.068420  0.947051  \n",
       "7418  1.422931 -1.068420  0.831437  \n",
       "7419  1.422931 -1.068420 -0.498130  \n",
       "7420  1.422931 -1.315009 -1.423046  \n",
       "7421  1.422931 -1.561598  1.467317  "
      ]
     },
     "execution_count": 60,
     "metadata": {},
     "output_type": "execute_result"
    }
   ],
   "source": [
    "# InDependent Variable\n",
    "X.tail()"
   ]
  },
  {
   "cell_type": "code",
   "execution_count": 61,
   "id": "2cfaa7f8",
   "metadata": {},
   "outputs": [
    {
     "data": {
      "text/plain": [
       "7417    1\n",
       "7418    1\n",
       "7419    1\n",
       "7420    1\n",
       "7421    0\n",
       "Name: Status, dtype: int64"
      ]
     },
     "execution_count": 61,
     "metadata": {},
     "output_type": "execute_result"
    }
   ],
   "source": [
    "# Dependent Variable\n",
    "y.tail()"
   ]
  },
  {
   "cell_type": "markdown",
   "id": "bc64d808",
   "metadata": {},
   "source": [
    "### ( iv ) . Split Data into Train & Test"
   ]
  },
  {
   "cell_type": "code",
   "execution_count": 74,
   "id": "93d16cb4",
   "metadata": {},
   "outputs": [],
   "source": [
    "# Split data into train & test using train_test_split\n",
    "from sklearn.model_selection import train_test_split\n",
    "X_train,X_test,y_train,y_test = train_test_split(X,y,test_size=0.20,random_state=95)"
   ]
  },
  {
   "cell_type": "markdown",
   "id": "1d0586cc",
   "metadata": {},
   "source": [
    "# --- :   MODEL CREATION   : ---"
   ]
  },
  {
   "cell_type": "markdown",
   "id": "37d3c2cb",
   "metadata": {},
   "source": [
    "## ( i ) . Logistic Regression :---"
   ]
  },
  {
   "cell_type": "code",
   "execution_count": 75,
   "id": "fb003d17",
   "metadata": {
    "scrolled": true
   },
   "outputs": [],
   "source": [
    "from sklearn.linear_model import LogisticRegression                  # Import Logistic regression\n",
    "log = LogisticRegression(random_state=1)                                           # Create variable of Logistic regression\n",
    "log.fit(X_train,y_train)                                             # Train data using Logistic regression\n",
    "y_log_pr = log.predict(X_test)                                       # predict Target class"
   ]
  },
  {
   "cell_type": "code",
   "execution_count": 76,
   "id": "229be1dd",
   "metadata": {},
   "outputs": [
    {
     "data": {
      "text/plain": [
       "array([1, 0, 1, ..., 1, 1, 1], dtype=int64)"
      ]
     },
     "execution_count": 76,
     "metadata": {},
     "output_type": "execute_result"
    }
   ],
   "source": [
    "# print predicted values\n",
    "y_log_pr"
   ]
  },
  {
   "cell_type": "code",
   "execution_count": 77,
   "id": "a88b7f36",
   "metadata": {},
   "outputs": [
    {
     "data": {
      "text/plain": [
       "array([1, 1, 0, ..., 1, 1, 1], dtype=int64)"
      ]
     },
     "execution_count": 77,
     "metadata": {},
     "output_type": "execute_result"
    }
   ],
   "source": [
    "# original y values\n",
    "y_test.values"
   ]
  },
  {
   "cell_type": "markdown",
   "id": "76560c92",
   "metadata": {},
   "source": [
    "### Model Evaluation:"
   ]
  },
  {
   "cell_type": "code",
   "execution_count": 78,
   "id": "00bd5471",
   "metadata": {},
   "outputs": [],
   "source": [
    "# Import metrics to check performance of model\n",
    "from sklearn.metrics import accuracy_score, classification_report"
   ]
  },
  {
   "cell_type": "code",
   "execution_count": 79,
   "id": "b4c5eeae",
   "metadata": {},
   "outputs": [
    {
     "name": "stdout",
     "output_type": "stream",
     "text": [
      "Accuracy of Logistic Regression is = 0.7315753887762001\n"
     ]
    }
   ],
   "source": [
    "# Check model perfomancabse\n",
    "Acc_log = accuracy_score(y_test,y_log_pr)\n",
    "print(f'Accuracy of Logistic Regression is = {Acc_log}')"
   ]
  },
  {
   "cell_type": "code",
   "execution_count": 80,
   "id": "1f6f6825",
   "metadata": {},
   "outputs": [
    {
     "name": "stdout",
     "output_type": "stream",
     "text": [
      "              precision    recall  f1-score   support\n",
      "\n",
      "           0       0.43      0.06      0.10       390\n",
      "           1       0.74      0.97      0.84      1089\n",
      "\n",
      "    accuracy                           0.73      1479\n",
      "   macro avg       0.59      0.51      0.47      1479\n",
      "weighted avg       0.66      0.73      0.65      1479\n",
      "\n"
     ]
    }
   ],
   "source": [
    "# Classification report\n",
    "print(classification_report(y_test,y_log_pr))"
   ]
  },
  {
   "cell_type": "markdown",
   "id": "89e1ca0d",
   "metadata": {},
   "source": [
    "## Over Sampling :-"
   ]
  },
  {
   "cell_type": "code",
   "execution_count": 85,
   "id": "799d698d",
   "metadata": {},
   "outputs": [],
   "source": [
    "# for balancing data use oversampling technique\n",
    "from imblearn.over_sampling import SMOTE\n",
    "smote = SMOTE(random_state=38)\n",
    "X_smote , y_smote = smote.fit_resample(X_train,y_train)"
   ]
  },
  {
   "cell_type": "code",
   "execution_count": 86,
   "id": "30017b7a",
   "metadata": {},
   "outputs": [
    {
     "name": "stdout",
     "output_type": "stream",
     "text": [
      "Before OverSampling, counts of label 'High Potential': 4104\n",
      "Before OverSampling, counts of label 'Low Potential': 1812 \n",
      "\n",
      "After OverSampling, counts of label 'High Potential': 4104\n",
      "After OverSampling, counts of label 'Low Potential': 4104 \n",
      "\n"
     ]
    }
   ],
   "source": [
    "print(\"Before OverSampling, counts of label 'High Potential': {}\".format(sum(y_train == 1)))\n",
    "print(\"Before OverSampling, counts of label 'Low Potential': {} \\n\".format(sum(y_train == 0)))\n",
    " \n",
    "print(\"After OverSampling, counts of label 'High Potential': {}\".format(sum(y_smote == 1)))\n",
    "print(\"After OverSampling, counts of label 'Low Potential': {} \\n\".format(sum(y_smote == 0)))\n"
   ]
  },
  {
   "cell_type": "markdown",
   "id": "c72d7173",
   "metadata": {},
   "source": [
    "### Model Evaluation after Data Balancing"
   ]
  },
  {
   "cell_type": "code",
   "execution_count": 87,
   "id": "62f227a0",
   "metadata": {},
   "outputs": [
    {
     "name": "stdout",
     "output_type": "stream",
     "text": [
      "Accuracy of Logistic Regression after Smoting is = 0.6281271129141311\n"
     ]
    }
   ],
   "source": [
    "# fit smote data & check performance\n",
    "log.fit(X_smote,y_smote)                                             # Train data using Logistic regression\n",
    "y_log = log.predict(X_test)    \n",
    "acc_log_smote=accuracy_score(y_test,y_log)\n",
    "print(f'Accuracy of Logistic Regression after Smoting is = {acc_log_smote}')"
   ]
  },
  {
   "cell_type": "code",
   "execution_count": 88,
   "id": "c77ca53a",
   "metadata": {},
   "outputs": [
    {
     "name": "stdout",
     "output_type": "stream",
     "text": [
      "              precision    recall  f1-score   support\n",
      "\n",
      "           0       0.36      0.54      0.43       390\n",
      "           1       0.80      0.66      0.72      1089\n",
      "\n",
      "    accuracy                           0.63      1479\n",
      "   macro avg       0.58      0.60      0.58      1479\n",
      "weighted avg       0.68      0.63      0.65      1479\n",
      "\n"
     ]
    }
   ],
   "source": [
    "# Classification report\n",
    "print(classification_report(y_test,y_log))"
   ]
  },
  {
   "cell_type": "markdown",
   "id": "cbba76e2",
   "metadata": {},
   "source": [
    "## ( ii ) . K Nearest Neighbour :---"
   ]
  },
  {
   "cell_type": "code",
   "execution_count": 99,
   "id": "b9e1e14b",
   "metadata": {},
   "outputs": [],
   "source": [
    "## calculate the error rate for no.of neighbours\n",
    "\n",
    "from sklearn.neighbors import KNeighborsClassifier     # import KNeighbours Classifier\n",
    "\n",
    "error_rate = []                                        # Create a empty list to store error rate \n",
    "for i in range(1,15):                                  # use for loop to iterate\n",
    "    knn = KNeighborsClassifier(n_neighbors=i)          # define KNeighbour classifier\n",
    "    knn.fit(X_smote,y_smote)                           # Train model with KNN\n",
    "    pred_i = knn.predict(X_test)                       # predict test data\n",
    "    error_rate.append(np.mean(pred_i != y_test))       # append the error rate on empty list"
   ]
  },
  {
   "cell_type": "code",
   "execution_count": 100,
   "id": "c2595e31",
   "metadata": {},
   "outputs": [
    {
     "data": {
      "image/png": "[encoded data removed]",
      "text/plain": [
       "<Figure size 1200x500 with 1 Axes>"
      ]
     },
     "metadata": {},
     "output_type": "display_data"
    }
   ],
   "source": [
    "# Plot a line graph between error rate vs no.of neighbours\n",
    "plt.figure(figsize=(12,5))\n",
    "plt.plot(range(1,15),error_rate,color='red', linestyle='dashed', \n",
    "         marker='o',markerfacecolor='blue', markersize=8)\n",
    "plt.show()"
   ]
  },
  {
   "cell_type": "code",
   "execution_count": 101,
   "id": "d8b81c3b",
   "metadata": {},
   "outputs": [
    {
     "name": "stdout",
     "output_type": "stream",
     "text": [
      "Accuracy of k nearest Neighbour = 0.6490872210953347\n"
     ]
    }
   ],
   "source": [
    "from sklearn.neighbors import KNeighborsClassifier        # import k_nearest neighbour\n",
    "knn = KNeighborsClassifier(n_neighbors=3)                 # define the model with default parameters\n",
    "knn.fit(X_smote,y_smote)                                  # train model with default parameters\n",
    "y_pr_knn = knn.predict(X_test)                            # predict test data data \n",
    "\n",
    "# Check model performance\n",
    "acc_knn =accuracy_score(y_test,y_pr_knn)\n",
    "print(f'Accuracy of k nearest Neighbour = {acc_knn}')"
   ]
  },
  {
   "cell_type": "code",
   "execution_count": 104,
   "id": "aa433cf3",
   "metadata": {},
   "outputs": [
    {
     "name": "stdout",
     "output_type": "stream",
     "text": [
      "              precision    recall  f1-score   support\n",
      "\n",
      "           0       0.39      0.60      0.47       390\n",
      "           1       0.82      0.67      0.74      1089\n",
      "\n",
      "    accuracy                           0.65      1479\n",
      "   macro avg       0.61      0.63      0.61      1479\n",
      "weighted avg       0.71      0.65      0.67      1479\n",
      "\n"
     ]
    }
   ],
   "source": [
    "# print classification report \n",
    "print(classification_report(y_test,y_pr_knn))"
   ]
  },
  {
   "cell_type": "markdown",
   "id": "41667fd3",
   "metadata": {},
   "source": [
    "#### Hyperparameter Tunning of KNN :"
   ]
  },
  {
   "cell_type": "code",
   "execution_count": 110,
   "id": "151fe1c6",
   "metadata": {},
   "outputs": [
    {
     "name": "stdout",
     "output_type": "stream",
     "text": [
      "Fitting 3 folds for each of 30 candidates, totalling 90 fits\n",
      "[CV 1/3] END metric=minkowski, n_neighbors=3, weights=uniform;, score=0.745 total time=   0.2s\n",
      "[CV 2/3] END metric=minkowski, n_neighbors=3, weights=uniform;, score=0.746 total time=   0.2s\n",
      "[CV 3/3] END metric=minkowski, n_neighbors=3, weights=uniform;, score=0.796 total time=   0.2s\n",
      "[CV 1/3] END metric=minkowski, n_neighbors=3, weights=distance;, score=0.754 total time=   0.0s\n",
      "[CV 2/3] END metric=minkowski, n_neighbors=3, weights=distance;, score=0.758 total time=   0.0s\n",
      "[CV 3/3] END metric=minkowski, n_neighbors=3, weights=distance;, score=0.807 total time=   0.0s\n",
      "[CV 1/3] END metric=minkowski, n_neighbors=5, weights=uniform;, score=0.726 total time=   0.2s\n",
      "[CV 2/3] END metric=minkowski, n_neighbors=5, weights=uniform;, score=0.747 total time=   0.2s\n",
      "[CV 3/3] END metric=minkowski, n_neighbors=5, weights=uniform;, score=0.776 total time=   0.2s\n",
      "[CV 1/3] END metric=minkowski, n_neighbors=5, weights=distance;, score=0.744 total time=   0.0s\n",
      "[CV 2/3] END metric=minkowski, n_neighbors=5, weights=distance;, score=0.761 total time=   0.0s\n",
      "[CV 3/3] END metric=minkowski, n_neighbors=5, weights=distance;, score=0.793 total time=   0.0s\n",
      "[CV 1/3] END metric=minkowski, n_neighbors=7, weights=uniform;, score=0.720 total time=   0.2s\n",
      "[CV 2/3] END metric=minkowski, n_neighbors=7, weights=uniform;, score=0.737 total time=   0.2s\n",
      "[CV 3/3] END metric=minkowski, n_neighbors=7, weights=uniform;, score=0.753 total time=   0.2s\n",
      "[CV 1/3] END metric=minkowski, n_neighbors=7, weights=distance;, score=0.738 total time=   0.0s\n",
      "[CV 2/3] END metric=minkowski, n_neighbors=7, weights=distance;, score=0.759 total time=   0.0s\n",
      "[CV 3/3] END metric=minkowski, n_neighbors=7, weights=distance;, score=0.783 total time=   0.0s\n",
      "[CV 1/3] END metric=minkowski, n_neighbors=9, weights=uniform;, score=0.716 total time=   0.2s\n",
      "[CV 2/3] END metric=minkowski, n_neighbors=9, weights=uniform;, score=0.721 total time=   0.2s\n",
      "[CV 3/3] END metric=minkowski, n_neighbors=9, weights=uniform;, score=0.740 total time=   0.2s\n",
      "[CV 1/3] END metric=minkowski, n_neighbors=9, weights=distance;, score=0.735 total time=   0.0s\n",
      "[CV 2/3] END metric=minkowski, n_neighbors=9, weights=distance;, score=0.747 total time=   0.0s\n",
      "[CV 3/3] END metric=minkowski, n_neighbors=9, weights=distance;, score=0.776 total time=   0.0s\n",
      "[CV 1/3] END metric=minkowski, n_neighbors=11, weights=uniform;, score=0.701 total time=   0.2s\n",
      "[CV 2/3] END metric=minkowski, n_neighbors=11, weights=uniform;, score=0.713 total time=   0.2s\n",
      "[CV 3/3] END metric=minkowski, n_neighbors=11, weights=uniform;, score=0.726 total time=   0.2s\n",
      "[CV 1/3] END metric=minkowski, n_neighbors=11, weights=distance;, score=0.726 total time=   0.0s\n",
      "[CV 2/3] END metric=minkowski, n_neighbors=11, weights=distance;, score=0.747 total time=   0.0s\n",
      "[CV 3/3] END metric=minkowski, n_neighbors=11, weights=distance;, score=0.764 total time=   0.0s\n",
      "[CV 1/3] END metric=euclidean, n_neighbors=3, weights=uniform;, score=0.745 total time=   0.2s\n",
      "[CV 2/3] END metric=euclidean, n_neighbors=3, weights=uniform;, score=0.746 total time=   0.2s\n",
      "[CV 3/3] END metric=euclidean, n_neighbors=3, weights=uniform;, score=0.796 total time=   0.2s\n",
      "[CV 1/3] END metric=euclidean, n_neighbors=3, weights=distance;, score=0.754 total time=   0.0s\n",
      "[CV 2/3] END metric=euclidean, n_neighbors=3, weights=distance;, score=0.758 total time=   0.0s\n",
      "[CV 3/3] END metric=euclidean, n_neighbors=3, weights=distance;, score=0.807 total time=   0.0s\n",
      "[CV 1/3] END metric=euclidean, n_neighbors=5, weights=uniform;, score=0.726 total time=   0.2s\n",
      "[CV 2/3] END metric=euclidean, n_neighbors=5, weights=uniform;, score=0.747 total time=   0.2s\n",
      "[CV 3/3] END metric=euclidean, n_neighbors=5, weights=uniform;, score=0.776 total time=   0.3s\n",
      "[CV 1/3] END metric=euclidean, n_neighbors=5, weights=distance;, score=0.744 total time=   0.0s\n",
      "[CV 2/3] END metric=euclidean, n_neighbors=5, weights=distance;, score=0.761 total time=   0.1s\n",
      "[CV 3/3] END metric=euclidean, n_neighbors=5, weights=distance;, score=0.793 total time=   0.1s\n",
      "[CV 1/3] END metric=euclidean, n_neighbors=7, weights=uniform;, score=0.720 total time=   0.3s\n",
      "[CV 2/3] END metric=euclidean, n_neighbors=7, weights=uniform;, score=0.737 total time=   0.2s\n",
      "[CV 3/3] END metric=euclidean, n_neighbors=7, weights=uniform;, score=0.753 total time=   0.2s\n",
      "[CV 1/3] END metric=euclidean, n_neighbors=7, weights=distance;, score=0.738 total time=   0.0s\n",
      "[CV 2/3] END metric=euclidean, n_neighbors=7, weights=distance;, score=0.759 total time=   0.0s\n",
      "[CV 3/3] END metric=euclidean, n_neighbors=7, weights=distance;, score=0.783 total time=   0.0s\n",
      "[CV 1/3] END metric=euclidean, n_neighbors=9, weights=uniform;, score=0.716 total time=   0.2s\n",
      "[CV 2/3] END metric=euclidean, n_neighbors=9, weights=uniform;, score=0.721 total time=   0.2s\n",
      "[CV 3/3] END metric=euclidean, n_neighbors=9, weights=uniform;, score=0.740 total time=   0.3s\n",
      "[CV 1/3] END metric=euclidean, n_neighbors=9, weights=distance;, score=0.735 total time=   0.1s\n",
      "[CV 2/3] END metric=euclidean, n_neighbors=9, weights=distance;, score=0.747 total time=   0.1s\n",
      "[CV 3/3] END metric=euclidean, n_neighbors=9, weights=distance;, score=0.776 total time=   0.1s\n",
      "[CV 1/3] END metric=euclidean, n_neighbors=11, weights=uniform;, score=0.701 total time=   0.3s\n",
      "[CV 2/3] END metric=euclidean, n_neighbors=11, weights=uniform;, score=0.713 total time=   0.2s\n",
      "[CV 3/3] END metric=euclidean, n_neighbors=11, weights=uniform;, score=0.726 total time=   0.2s\n",
      "[CV 1/3] END metric=euclidean, n_neighbors=11, weights=distance;, score=0.726 total time=   0.0s\n",
      "[CV 2/3] END metric=euclidean, n_neighbors=11, weights=distance;, score=0.747 total time=   0.0s\n",
      "[CV 3/3] END metric=euclidean, n_neighbors=11, weights=distance;, score=0.764 total time=   0.0s\n",
      "[CV 1/3] END metric=manhattan, n_neighbors=3, weights=uniform;, score=0.763 total time=   0.2s\n",
      "[CV 2/3] END metric=manhattan, n_neighbors=3, weights=uniform;, score=0.770 total time=   0.2s\n",
      "[CV 3/3] END metric=manhattan, n_neighbors=3, weights=uniform;, score=0.804 total time=   0.2s\n",
      "[CV 1/3] END metric=manhattan, n_neighbors=3, weights=distance;, score=0.777 total time=   0.0s\n",
      "[CV 2/3] END metric=manhattan, n_neighbors=3, weights=distance;, score=0.781 total time=   0.0s\n",
      "[CV 3/3] END metric=manhattan, n_neighbors=3, weights=distance;, score=0.817 total time=   0.0s\n",
      "[CV 1/3] END metric=manhattan, n_neighbors=5, weights=uniform;, score=0.746 total time=   0.2s\n",
      "[CV 2/3] END metric=manhattan, n_neighbors=5, weights=uniform;, score=0.758 total time=   0.2s\n",
      "[CV 3/3] END metric=manhattan, n_neighbors=5, weights=uniform;, score=0.783 total time=   0.2s\n",
      "[CV 1/3] END metric=manhattan, n_neighbors=5, weights=distance;, score=0.768 total time=   0.0s\n",
      "[CV 2/3] END metric=manhattan, n_neighbors=5, weights=distance;, score=0.774 total time=   0.0s\n",
      "[CV 3/3] END metric=manhattan, n_neighbors=5, weights=distance;, score=0.808 total time=   0.0s\n",
      "[CV 1/3] END metric=manhattan, n_neighbors=7, weights=uniform;, score=0.731 total time=   0.2s\n",
      "[CV 2/3] END metric=manhattan, n_neighbors=7, weights=uniform;, score=0.745 total time=   0.2s\n",
      "[CV 3/3] END metric=manhattan, n_neighbors=7, weights=uniform;, score=0.773 total time=   0.2s\n",
      "[CV 1/3] END metric=manhattan, n_neighbors=7, weights=distance;, score=0.760 total time=   0.0s\n",
      "[CV 2/3] END metric=manhattan, n_neighbors=7, weights=distance;, score=0.770 total time=   0.1s\n",
      "[CV 3/3] END metric=manhattan, n_neighbors=7, weights=distance;, score=0.808 total time=   0.1s\n",
      "[CV 1/3] END metric=manhattan, n_neighbors=9, weights=uniform;, score=0.728 total time=   0.2s\n",
      "[CV 2/3] END metric=manhattan, n_neighbors=9, weights=uniform;, score=0.738 total time=   0.2s\n",
      "[CV 3/3] END metric=manhattan, n_neighbors=9, weights=uniform;, score=0.760 total time=   0.2s\n",
      "[CV 1/3] END metric=manhattan, n_neighbors=9, weights=distance;, score=0.755 total time=   0.1s\n",
      "[CV 2/3] END metric=manhattan, n_neighbors=9, weights=distance;, score=0.769 total time=   0.1s\n",
      "[CV 3/3] END metric=manhattan, n_neighbors=9, weights=distance;, score=0.799 total time=   0.1s\n",
      "[CV 1/3] END metric=manhattan, n_neighbors=11, weights=uniform;, score=0.721 total time=   0.2s\n",
      "[CV 2/3] END metric=manhattan, n_neighbors=11, weights=uniform;, score=0.734 total time=   0.2s\n"
     ]
    },
    {
     "name": "stdout",
     "output_type": "stream",
     "text": [
      "[CV 3/3] END metric=manhattan, n_neighbors=11, weights=uniform;, score=0.752 total time=   0.3s\n",
      "[CV 1/3] END metric=manhattan, n_neighbors=11, weights=distance;, score=0.751 total time=   0.1s\n",
      "[CV 2/3] END metric=manhattan, n_neighbors=11, weights=distance;, score=0.765 total time=   0.2s\n",
      "[CV 3/3] END metric=manhattan, n_neighbors=11, weights=distance;, score=0.790 total time=   0.2s\n"
     ]
    },
    {
     "data": {
      "text/html": [
       "<style>#sk-container-id-2 {color: black;background-color: white;}#sk-container-id-2 pre{padding: 0;}#sk-container-id-2 div.sk-toggleable {background-color: white;}#sk-container-id-2 label.sk-toggleable__label {cursor: pointer;display: block;width: 100%;margin-bottom: 0;padding: 0.3em;box-sizing: border-box;text-align: center;}#sk-container-id-2 label.sk-toggleable__label-arrow:before {content: \"▸\";float: left;margin-right: 0.25em;color: #696969;}#sk-container-id-2 label.sk-toggleable__label-arrow:hover:before {color: black;}#sk-container-id-2 div.sk-estimator:hover label.sk-toggleable__label-arrow:before {color: black;}#sk-container-id-2 div.sk-toggleable__content {max-height: 0;max-width: 0;overflow: hidden;text-align: left;background-color: #f0f8ff;}#sk-container-id-2 div.sk-toggleable__content pre {margin: 0.2em;color: black;border-radius: 0.25em;background-color: #f0f8ff;}#sk-container-id-2 input.sk-toggleable__control:checked~div.sk-toggleable__content {max-height: 200px;max-width: 100%;overflow: auto;}#sk-container-id-2 input.sk-toggleable__control:checked~label.sk-toggleable__label-arrow:before {content: \"▾\";}#sk-container-id-2 div.sk-estimator input.sk-toggleable__control:checked~label.sk-toggleable__label {background-color: #d4ebff;}#sk-container-id-2 div.sk-label input.sk-toggleable__control:checked~label.sk-toggleable__label {background-color: #d4ebff;}#sk-container-id-2 input.sk-hidden--visually {border: 0;clip: rect(1px 1px 1px 1px);clip: rect(1px, 1px, 1px, 1px);height: 1px;margin: -1px;overflow: hidden;padding: 0;position: absolute;width: 1px;}#sk-container-id-2 div.sk-estimator {font-family: monospace;background-color: #f0f8ff;border: 1px dotted black;border-radius: 0.25em;box-sizing: border-box;margin-bottom: 0.5em;}#sk-container-id-2 div.sk-estimator:hover {background-color: #d4ebff;}#sk-container-id-2 div.sk-parallel-item::after {content: \"\";width: 100%;border-bottom: 1px solid gray;flex-grow: 1;}#sk-container-id-2 div.sk-label:hover label.sk-toggleable__label {background-color: #d4ebff;}#sk-container-id-2 div.sk-serial::before {content: \"\";position: absolute;border-left: 1px solid gray;box-sizing: border-box;top: 0;bottom: 0;left: 50%;z-index: 0;}#sk-container-id-2 div.sk-serial {display: flex;flex-direction: column;align-items: center;background-color: white;padding-right: 0.2em;padding-left: 0.2em;position: relative;}#sk-container-id-2 div.sk-item {position: relative;z-index: 1;}#sk-container-id-2 div.sk-parallel {display: flex;align-items: stretch;justify-content: center;background-color: white;position: relative;}#sk-container-id-2 div.sk-item::before, #sk-container-id-2 div.sk-parallel-item::before {content: \"\";position: absolute;border-left: 1px solid gray;box-sizing: border-box;top: 0;bottom: 0;left: 50%;z-index: -1;}#sk-container-id-2 div.sk-parallel-item {display: flex;flex-direction: column;z-index: 1;position: relative;background-color: white;}#sk-container-id-2 div.sk-parallel-item:first-child::after {align-self: flex-end;width: 50%;}#sk-container-id-2 div.sk-parallel-item:last-child::after {align-self: flex-start;width: 50%;}#sk-container-id-2 div.sk-parallel-item:only-child::after {width: 0;}#sk-container-id-2 div.sk-dashed-wrapped {border: 1px dashed gray;margin: 0 0.4em 0.5em 0.4em;box-sizing: border-box;padding-bottom: 0.4em;background-color: white;}#sk-container-id-2 div.sk-label label {font-family: monospace;font-weight: bold;display: inline-block;line-height: 1.2em;}#sk-container-id-2 div.sk-label-container {text-align: center;}#sk-container-id-2 div.sk-container {/* jupyter's `normalize.less` sets `[hidden] { display: none; }` but bootstrap.min.css set `[hidden] { display: none !important; }` so we also need the `!important` here to be able to override the default hidden behavior on the sphinx rendered scikit-learn.org. See: https://github.com/scikit-learn/scikit-learn/issues/21755 */display: inline-block !important;position: relative;}#sk-container-id-2 div.sk-text-repr-fallback {display: none;}</style><div id=\"sk-container-id-2\" class=\"sk-top-container\"><div class=\"sk-text-repr-fallback\"><pre>GridSearchCV(cv=3, estimator=KNeighborsClassifier(n_neighbors=3),\n",
       "             param_grid={&#x27;metric&#x27;: [&#x27;minkowski&#x27;, &#x27;euclidean&#x27;, &#x27;manhattan&#x27;],\n",
       "                         &#x27;n_neighbors&#x27;: [3, 5, 7, 9, 11],\n",
       "                         &#x27;weights&#x27;: [&#x27;uniform&#x27;, &#x27;distance&#x27;]},\n",
       "             scoring=&#x27;accuracy&#x27;, verbose=3)</pre><b>In a Jupyter environment, please rerun this cell to show the HTML representation or trust the notebook. <br />On GitHub, the HTML representation is unable to render, please try loading this page with nbviewer.org.</b></div><div class=\"sk-container\" hidden><div class=\"sk-item sk-dashed-wrapped\"><div class=\"sk-label-container\"><div class=\"sk-label sk-toggleable\"><input class=\"sk-toggleable__control sk-hidden--visually\" id=\"sk-estimator-id-4\" type=\"checkbox\" ><label for=\"sk-estimator-id-4\" class=\"sk-toggleable__label sk-toggleable__label-arrow\">GridSearchCV</label><div class=\"sk-toggleable__content\"><pre>GridSearchCV(cv=3, estimator=KNeighborsClassifier(n_neighbors=3),\n",
       "             param_grid={&#x27;metric&#x27;: [&#x27;minkowski&#x27;, &#x27;euclidean&#x27;, &#x27;manhattan&#x27;],\n",
       "                         &#x27;n_neighbors&#x27;: [3, 5, 7, 9, 11],\n",
       "                         &#x27;weights&#x27;: [&#x27;uniform&#x27;, &#x27;distance&#x27;]},\n",
       "             scoring=&#x27;accuracy&#x27;, verbose=3)</pre></div></div></div><div class=\"sk-parallel\"><div class=\"sk-parallel-item\"><div class=\"sk-item\"><div class=\"sk-label-container\"><div class=\"sk-label sk-toggleable\"><input class=\"sk-toggleable__control sk-hidden--visually\" id=\"sk-estimator-id-5\" type=\"checkbox\" ><label for=\"sk-estimator-id-5\" class=\"sk-toggleable__label sk-toggleable__label-arrow\">estimator: KNeighborsClassifier</label><div class=\"sk-toggleable__content\"><pre>KNeighborsClassifier(n_neighbors=3)</pre></div></div></div><div class=\"sk-serial\"><div class=\"sk-item\"><div class=\"sk-estimator sk-toggleable\"><input class=\"sk-toggleable__control sk-hidden--visually\" id=\"sk-estimator-id-6\" type=\"checkbox\" ><label for=\"sk-estimator-id-6\" class=\"sk-toggleable__label sk-toggleable__label-arrow\">KNeighborsClassifier</label><div class=\"sk-toggleable__content\"><pre>KNeighborsClassifier(n_neighbors=3)</pre></div></div></div></div></div></div></div></div></div></div>"
      ],
      "text/plain": [
       "GridSearchCV(cv=3, estimator=KNeighborsClassifier(n_neighbors=3),\n",
       "             param_grid={'metric': ['minkowski', 'euclidean', 'manhattan'],\n",
       "                         'n_neighbors': [3, 5, 7, 9, 11],\n",
       "                         'weights': ['uniform', 'distance']},\n",
       "             scoring='accuracy', verbose=3)"
      ]
     },
     "execution_count": 110,
     "metadata": {},
     "output_type": "execute_result"
    }
   ],
   "source": [
    "# define hyperparameter's for KNN\n",
    "hyperpara_knn = {\n",
    "    'n_neighbors':[3,5,7,9,11],                      # no. of neighbours\n",
    "    'weights':['uniform', 'distance'],                 # how the wait calculated\n",
    "    'metric':['minkowski','euclidean','manhattan']     # which typevof distance\n",
    "}\n",
    "\n",
    "# import GridSearchCV\n",
    "from sklearn.model_selection import GridSearchCV\n",
    "\n",
    "# define Grid with parameters\n",
    "grid_knn = GridSearchCV(estimator=KNeighborsClassifier(n_neighbors=3),     # which model \n",
    "                       param_grid=hyperpara_knn,              # parameters \n",
    "                       scoring='accuracy',                    # Scoring\n",
    "                        cv=3,\n",
    "                        verbose=3\n",
    "                       )\n",
    "\n",
    "# Train all parameters \n",
    "grid_knn.fit(X_smote,y_smote)"
   ]
  },
  {
   "cell_type": "code",
   "execution_count": 111,
   "id": "7062a8d7",
   "metadata": {},
   "outputs": [
    {
     "name": "stdout",
     "output_type": "stream",
     "text": [
      "Best Score is : 0.7914230019493177\n",
      "Best Parameters : {'metric': 'manhattan', 'n_neighbors': 3, 'weights': 'distance'}\n"
     ]
    }
   ],
   "source": [
    "print(f'Best Score is : {grid_knn.best_score_}')\n",
    "print(f'Best Parameters : {grid_knn.best_params_}')"
   ]
  },
  {
   "cell_type": "code",
   "execution_count": 112,
   "id": "a6974f80",
   "metadata": {},
   "outputs": [
    {
     "name": "stdout",
     "output_type": "stream",
     "text": [
      "Accuracy of K_nearest Neighbour after hyperparameter = 0.6592292089249493\n"
     ]
    }
   ],
   "source": [
    "# train the K nearest neighbour model with best parameters\n",
    "knn_hyp = KNeighborsClassifier(n_neighbors=3,weights='distance',metric='manhattan')\n",
    "knn_hyp.fit(X_smote,y_smote)\n",
    "y_hyp_knn = knn_hyp.predict(X_test)\n",
    "\n",
    "acc_hyp_knn = accuracy_score(y_test,y_hyp_knn)\n",
    "print(f'Accuracy of K_nearest Neighbour after hyperparameter = {acc_hyp_knn}')"
   ]
  },
  {
   "cell_type": "markdown",
   "id": "4ce0f9a4",
   "metadata": {},
   "source": [
    "## ( iii ) . Support Vector Machine :---"
   ]
  },
  {
   "cell_type": "code",
   "execution_count": 114,
   "id": "1346d6e6",
   "metadata": {},
   "outputs": [
    {
     "name": "stdout",
     "output_type": "stream",
     "text": [
      "Accuracy of Support Vector : 0.5983772819472617\n"
     ]
    }
   ],
   "source": [
    "from sklearn.svm import SVC                       # import support vector \n",
    "svm = SVC(random_state=1)                        # make a variable of SVC\n",
    "svm.fit(X_smote,y_smote)                          # train SVC model with data\n",
    "y_svm = svm.predict(X_test)                       # predict \n",
    "\n",
    "acc_svm = accuracy_score(y_test,y_svm)\n",
    "print(f'Accuracy of Support Vector : {acc_svm}')"
   ]
  },
  {
   "cell_type": "markdown",
   "id": "e4eee79c",
   "metadata": {},
   "source": [
    "### Hyperparameter Tunning of Support Vector :"
   ]
  },
  {
   "cell_type": "code",
   "execution_count": null,
   "id": "27b4d495",
   "metadata": {},
   "outputs": [],
   "source": [
    "# define parameters for Support vector\n",
    "hyperpara_svm =  {\n",
    "    'C' : [10,1.0 , 0.1 , 0.001],             # \n",
    "    'kernel' : ['linear', 'rbf', 'sigmoid'],\n",
    "    'gamma' : [10,1,0.1]\n",
    "}\n",
    "\n",
    "# import Grid SearchCV\n",
    "from sklearn.model_selection import GridSearchCV\n",
    "\n",
    "# Define GridSearchCV\n",
    "grid_svm = GridSearchCV(estimator=SVC(random_state=0), \n",
    "                       param_grid=hyperpara_svm,\n",
    "                       scoring='accuracy',\n",
    "                       cv=3,\n",
    "                       verbose=3,\n",
    "                       n_jobs=-1 )          \n",
    "\n",
    "# train the GridSearchCV\n",
    "grid_svm.fit(X_smote,y_smote)\n",
    "\n",
    "print(f'Best Score is : {grid_svm.best_score_}')\n",
    "print(f'Best Parameters : {grid_svm.best_params_}')"
   ]
  },
  {
   "cell_type": "code",
   "execution_count": 115,
   "id": "af619453",
   "metadata": {},
   "outputs": [
    {
     "name": "stdout",
     "output_type": "stream",
     "text": [
      "Accuracy of Support Vector after hyperparameter = 0.7349560513860717\n"
     ]
    }
   ],
   "source": [
    "# Train Support Vector Classifier with best Parameters, which we got by doing hyperparameter tunning\n",
    "\n",
    "svm_hyp = SVC(C=0.1,kernel='rbf',gamma=10,random_state=99)\n",
    "svm_hyp.fit(X_smote,y_smote)\n",
    "y_hyp_svm = svm_hyp.predict(X_test)\n",
    "\n",
    "acc_hyp_svm = accuracy_score(y_test,y_hyp_svm)\n",
    "print(f'Accuracy of Support Vector after hyperparameter = {acc_hyp_svm}')"
   ]
  },
  {
   "cell_type": "markdown",
   "id": "9942e62e",
   "metadata": {},
   "source": [
    "## ( iv ) . Decision Tree :---"
   ]
  },
  {
   "cell_type": "code",
   "execution_count": 118,
   "id": "db7b5012",
   "metadata": {},
   "outputs": [
    {
     "name": "stdout",
     "output_type": "stream",
     "text": [
      "Accuracy of Decision Tree = 0.6869506423258959\n"
     ]
    }
   ],
   "source": [
    "from sklearn.tree import DecisionTreeClassifier     # import Decision tree Classifier\n",
    "tree = DecisionTreeClassifier(random_state=91)       # define decision tree \n",
    "tree.fit(X_smote,y_smote)                           # Train Decision tree with default parameters\n",
    "y_tree = tree.predict(X_test)                       # predict y_test for check model performance\n",
    "\n",
    "acc_tree = accuracy_score(y_test,y_tree)\n",
    "print(f'Accuracy of Decision Tree = {acc_tree}')"
   ]
  },
  {
   "cell_type": "raw",
   "id": "79a5f68e",
   "metadata": {},
   "source": [
    "for i in range(101):\n",
    "    \n",
    "    lg = DecisionTreeClassifier(random_state=i)                                          \n",
    "    lg.fit(X_smote,y_smote)                                            \n",
    "    ylg = lg.predict(X_test)                                       \n",
    "    ac = accuracy_score(y_test,ylg)\n",
    "    print(\"random\",i,\"accuracy: \",ac)"
   ]
  },
  {
   "cell_type": "markdown",
   "id": "d2c6ba04",
   "metadata": {},
   "source": [
    "### Hyperparameter Tunning of Decision Tree :"
   ]
  },
  {
   "cell_type": "code",
   "execution_count": 119,
   "id": "0dd7b4c9",
   "metadata": {},
   "outputs": [
    {
     "name": "stdout",
     "output_type": "stream",
     "text": [
      "Fitting 3 folds for each of 10 candidates, totalling 30 fits\n",
      "Best Score is : 0.7239278752436648\n",
      "Best Parameters : {'splitter': 'random', 'min_samples_split': 4, 'min_samples_leaf': 1, 'max_depth': 20, 'criterion': 'gini'}\n"
     ]
    }
   ],
   "source": [
    "# Define hyperparameter's for Decision Tree Classifier\n",
    "hyperpara_tree  =  {\n",
    "    'criterion' : [\"gini\", \"entropy\"],\n",
    "    'splitter' : [\"best\", \"random\"],\n",
    "    \"max_depth\":[10,20,30,40],\n",
    "    'min_samples_split' : [2,3,4,5],\n",
    "    'min_samples_leaf' : [1,2,3]\n",
    "}\n",
    "\n",
    "# import RandomizedSearchCV\n",
    "from sklearn.model_selection import RandomizedSearchCV\n",
    "\n",
    "# Define RandomizedSearchCV\n",
    "random_tree = RandomizedSearchCV(estimator=DecisionTreeClassifier(random_state=91),\n",
    "                                 param_distributions=hyperpara_tree,\n",
    "                                 n_jobs = -1,\n",
    "                                 scoring = 'accuracy',\n",
    "                                 cv=3,\n",
    "                                 verbose=3\n",
    "                                )\n",
    "# train RandomizedSearchCV\n",
    "random_tree.fit(X_smote,y_smote)\n",
    "\n",
    "\n",
    "print(f'Best Score is : {random_tree.best_score_}')\n",
    "print(f'Best Parameters : {random_tree.best_params_}')"
   ]
  },
  {
   "cell_type": "code",
   "execution_count": 126,
   "id": "da65eea9",
   "metadata": {},
   "outputs": [
    {
     "name": "stdout",
     "output_type": "stream",
     "text": [
      "Accuracy of Decision Tree after hyperparameter = 0.6862745098039216\n"
     ]
    }
   ],
   "source": [
    "# Train Decision Tree Classifier with above best parameters and make prediction.\n",
    "tree_hyp = DecisionTreeClassifier(criterion='gini',\n",
    "                                 splitter='random',\n",
    "                                 min_samples_split=4,\n",
    "                                 min_samples_leaf=1,\n",
    "                                 max_depth=20,\n",
    "                                 random_state=23)\n",
    "tree_hyp.fit(X_smote,y_smote)\n",
    "y_hyp_tree = tree_hyp.predict(X_test)\n",
    "\n",
    "acc_hyp_tree = accuracy_score(y_test,y_hyp_tree)\n",
    "print(f'Accuracy of Decision Tree after hyperparameter = {acc_hyp_tree}')"
   ]
  },
  {
   "cell_type": "raw",
   "id": "ca0e05fc",
   "metadata": {},
   "source": [
    "for i in range(101):\n",
    "    lg = DecisionTreeClassifier(criterion='gini',\n",
    "                                 splitter='random',\n",
    "                                 min_samples_split=4,\n",
    "                                 min_samples_leaf=1,\n",
    "                                 max_depth=20,\n",
    "                                 random_state=i)                                \n",
    "    lg.fit(X_smote,y_smote)                                            \n",
    "    ylg = lg.predict(X_test)                                       \n",
    "    ac = accuracy_score(y_test,ylg)\n",
    "    print(\"random\",i,\"accuracy: \",ac)"
   ]
  },
  {
   "cell_type": "markdown",
   "id": "474784e9",
   "metadata": {},
   "source": [
    "## ( v ) . Random Forest :---"
   ]
  },
  {
   "cell_type": "code",
   "execution_count": 129,
   "id": "d80a790c",
   "metadata": {},
   "outputs": [
    {
     "name": "stdout",
     "output_type": "stream",
     "text": [
      "Accuracy of random forest = 0.751183231913455\n"
     ]
    }
   ],
   "source": [
    "from sklearn.ensemble import RandomForestClassifier     # import Random Forest Classifier\n",
    "r_forest = RandomForestClassifier(random_state=88)       # define Random forest\n",
    "r_forest.fit(X_smote,y_smote)                           # Train Random forest\n",
    "y_pr_forest = r_forest.predict(X_test)                  # predict y_test\n",
    "acc_forest = accuracy_score(y_test,y_pr_forest)\n",
    "print(f'Accuracy of random forest = {acc_forest}')"
   ]
  },
  {
   "cell_type": "raw",
   "id": "a3d71c79",
   "metadata": {},
   "source": [
    "for i in range(101):\n",
    "    lg = RandomForestClassifier(random_state=i)                           \n",
    "    lg.fit(X_smote,y_smote)                                            \n",
    "    ylg = lg.predict(X_test)                                       \n",
    "    ac = accuracy_score(y_test,ylg)\n",
    "    print(\"random\",i,\"accuracy: \",ac)"
   ]
  },
  {
   "cell_type": "markdown",
   "id": "f27302ac",
   "metadata": {},
   "source": [
    "### Hyperparameter tunning for Random Forest :"
   ]
  },
  {
   "cell_type": "code",
   "execution_count": 114,
   "id": "70f97858",
   "metadata": {},
   "outputs": [
    {
     "name": "stdout",
     "output_type": "stream",
     "text": [
      "Fitting 3 folds for each of 100 candidates, totalling 300 fits\n"
     ]
    },
    {
     "name": "stderr",
     "output_type": "stream",
     "text": [
      "\n",
      "KeyboardInterrupt\n",
      "\n"
     ]
    }
   ],
   "source": [
    "# define Parameters required for Random Forest for hyperpameter tunning\n",
    "hyperpara_forest  =  {\n",
    "    'n_estimators' : [int(x) for x in np.linspace(200,2000,10)],\n",
    "    'max_depth' : [int(x) for x in np.linspace(10, 110, num=11)],\n",
    "    'min_samples_split' : [2,5,7,10],\n",
    "    'min_samples_leaf' : [1,2,3,4],\n",
    "    'max_features' : [\"sqrt\", \"auto\"] \n",
    "}\n",
    "\n",
    "# import RandomizedSearchCV\n",
    "from sklearn.model_selection import RandomizedSearchCV\n",
    "\n",
    "# Define RandomizedSearchCV\n",
    "grid_forest = RandomizedSearchCV(estimator=RandomForestClassifier(random_state=0),\n",
    "                                 param_distributions=hyperpara_forest ,\n",
    "                                  n_iter=100 ,\n",
    "                                  n_jobs=-1 ,\n",
    "                                  verbose=1 ,\n",
    "                                  cv = 3 ,\n",
    "                                  scoring='accuracy'\n",
    "                             )\n",
    "# Train RandomizedSearchCV\n",
    "grid_forest.fit(X_smote,y_smote)\n",
    "\n",
    "print(f'Best Score is : {grid_forest.best_score_}')\n",
    "print(f'Best Parameters : {grid_forest.best_params_}')"
   ]
  },
  {
   "cell_type": "code",
   "execution_count": 130,
   "id": "3d0344d9",
   "metadata": {},
   "outputs": [
    {
     "name": "stdout",
     "output_type": "stream",
     "text": [
      "Accuracy of Random Forest after hyperparameter = 0.7437457741717377\n"
     ]
    }
   ],
   "source": [
    "# Train Randomforestclassifier with best parameters\n",
    "r_forest_hyp = RandomForestClassifier(n_estimators =  200,\n",
    "                                     min_samples_split = 7,\n",
    "                                     min_samples_leaf = 5,\n",
    "                                     max_features =  'sqrt',\n",
    "                                     criterion = 'entropy',\n",
    "                                     random_state=0)\n",
    "r_forest_hyp.fit(X_smote,y_smote)\n",
    "y_hyp_forest = r_forest_hyp.predict(X_test)\n",
    "\n",
    "acc_hyp_forest = accuracy_score(y_test,y_hyp_forest)\n",
    "print(f'Accuracy of Random Forest after hyperparameter = {acc_hyp_forest}')"
   ]
  },
  {
   "cell_type": "code",
   "execution_count": 131,
   "id": "0e6b995d",
   "metadata": {},
   "outputs": [
    {
     "name": "stdout",
     "output_type": "stream",
     "text": [
      "random 0 accuracy:  0.7437457741717377\n",
      "random 1 accuracy:  0.7450980392156863\n"
     ]
    },
    {
     "name": "stderr",
     "output_type": "stream",
     "text": [
      "\n",
      "KeyboardInterrupt\n",
      "\n"
     ]
    }
   ],
   "source": [
    "for i in range(101):\n",
    "    lg = RandomForestClassifier(n_estimators =  200,\n",
    "                                     min_samples_split = 7,\n",
    "                                     min_samples_leaf = 5,\n",
    "                                     max_features =  'sqrt',\n",
    "                                     criterion = 'entropy',\n",
    "                                     random_state=i)                     \n",
    "    lg.fit(X_smote,y_smote)                                            \n",
    "    ylg = lg.predict(X_test)                                       \n",
    "    ac = accuracy_score(y_test,ylg)\n",
    "    print(\"random\",i,\"accuracy: \",ac)"
   ]
  },
  {
   "cell_type": "markdown",
   "id": "39cec660",
   "metadata": {},
   "source": [
    "## ( vi ) . Gradient Boosting :-"
   ]
  },
  {
   "cell_type": "code",
   "execution_count": 132,
   "id": "e31f3197",
   "metadata": {},
   "outputs": [
    {
     "name": "stdout",
     "output_type": "stream",
     "text": [
      "Accuracy of Gradient Boosting = 0.7241379310344828\n"
     ]
    }
   ],
   "source": [
    "from sklearn.ensemble import GradientBoostingClassifier    # import Gradient Booster\n",
    "gboost = GradientBoostingClassifier(random_state=99)       # define Gradient booster with bydefault parameters\n",
    "gboost.fit(X_smote,y_smote)                                # Train  Gradient boost \n",
    "y_gboost = gboost.predict(X_test)                          # make prediction for y_test\n",
    "acc_gboost = accuracy_score(y_test,y_gboost)\n",
    "print(f'Accuracy of Gradient Boosting = {acc_gboost}')"
   ]
  },
  {
   "cell_type": "markdown",
   "id": "0ddfc550",
   "metadata": {},
   "source": [
    "### Hyperparameter Tunning of Gradient Boost :"
   ]
  },
  {
   "cell_type": "code",
   "execution_count": null,
   "id": "c364e431",
   "metadata": {},
   "outputs": [],
   "source": [
    "# define parameters required for hyperparameter Tunninng for Random forest classifier\n",
    "hyperpara_gboost  =  {\n",
    "    'learning_rate' : [100,10,1,0.1,0.001],\n",
    "    'n_estimators' : [int(x) for x in np.linspace(100,2000,10)],\n",
    "    'criterion' : ['friedman_mse', 'squared_error'],\n",
    "    'min_samples_split' : [2,3,5,7],\n",
    "    'min_samples_leaf' : [1,2,3,4,5]\n",
    "}# Impoort RandomizedSearchCV\n",
    "from sklearn.model_selection import RandomizedSearchCV\n",
    "\n",
    "# Define RandomizedSearchCV\n",
    "grid_gboost = RandomizedSearchCV(estimator=GradientBoostingClassifier(random_state=0),\n",
    "                   param_distributions=hyperpara_gboost,\n",
    "                   scoring='accuracy',\n",
    "                    n_iter=100,\n",
    "                   verbose=2,\n",
    "                   cv=3,\n",
    "                    n_jobs=-1\n",
    "                   )\n",
    "# Train VRandomizedSearchCV\n",
    "grid_gboost.fit(X_smote,y_smote)\n",
    "\n",
    "print(f'Best Score is : {grid_gboost.best_score_}')\n",
    "print(f'Best Parameters : {grid_gboost.best_params_}')"
   ]
  },
  {
   "cell_type": "code",
   "execution_count": 134,
   "id": "618136c6",
   "metadata": {},
   "outputs": [
    {
     "name": "stdout",
     "output_type": "stream",
     "text": [
      "Accuracy of Gradient Boost after hyperparameter = 0.7538877620013522\n"
     ]
    }
   ],
   "source": [
    "# Train Random Forest Classifier with Best Parameters\n",
    "gboost_hyp = GradientBoostingClassifier(n_estimators =  150,\n",
    "                                     min_samples_split = 9,\n",
    "                                     min_samples_leaf = 7,\n",
    "                                    learning_rate=0.3 ,\n",
    "                                     criterion = 'friedman_mse',\n",
    "                                     )\n",
    "gboost_hyp.fit(X_smote,y_smote)\n",
    "y_hyp_gboost = gboost_hyp.predict(X_test)\n",
    "\n",
    "acc_hyp_boost = accuracy_score(y_test,y_hyp_gboost)\n",
    "print(f'Accuracy of Gradient Boost after hyperparameter = {acc_hyp_boost}')"
   ]
  },
  {
   "cell_type": "markdown",
   "id": "5f38c483",
   "metadata": {},
   "source": [
    "## ( vii ) . XG - Boost :---"
   ]
  },
  {
   "cell_type": "code",
   "execution_count": 135,
   "id": "bf248059",
   "metadata": {},
   "outputs": [
    {
     "name": "stdout",
     "output_type": "stream",
     "text": [
      "Accuracy of XG - Boost = 0.742393509127789\n"
     ]
    }
   ],
   "source": [
    "from xgboost import XGBClassifier             # import xgboost\n",
    "xgb = XGBClassifier()                         # Define xgboost\n",
    "xgb.fit(X_smote,y_smote)                      # Train Xgboost\n",
    "y_xgb = xgb.predict(X_test)                   # make prediction for y_test\n",
    "acc_xgb = accuracy_score(y_test,y_xgb)\n",
    "print(f'Accuracy of XG - Boost = {acc_xgb}')"
   ]
  },
  {
   "cell_type": "markdown",
   "id": "c5c58d53",
   "metadata": {},
   "source": [
    "### Hyperparameter Tunning of XG-Boost :"
   ]
  },
  {
   "cell_type": "code",
   "execution_count": null,
   "id": "69dc4541",
   "metadata": {},
   "outputs": [],
   "source": [
    "# import RandomizedSearchCV\n",
    "from sklearn.model_selection import RandomizedSearchCV\n",
    "\n",
    "# define hyperparameters required for XGboost\n",
    "param_grid = {'gamma': [1,0.1,0.2,0.3,0.001,0.0001],\n",
    "              'learning_rate': [ 0.1, 0.15, 0.2, 0.25, 0.3, 0.4, 0.5, 0.6, 0.7],\n",
    "              'max_depth': [5,6,7,8,9,10,11,12,13,14],\n",
    "              'n_estimators': [100,150,200,250,300],\n",
    "              'reg_alpha': [0.1,0.2,0.4,0.8,1.6,3.2,6.4],\n",
    "              'reg_lambda': [0.1,0.2,0.4,0.8,1.6,3.2,6.4,12.8,25.6,51.2,102.4,200]}\n",
    "\n",
    "# Define XGBoost\n",
    "random_cv_xgb = RandomizedSearchCV(estimator=XGBClassifier(ra), scoring='accuracy',param_distributions=param_grid, n_iter=100, cv=3,verbose=1,\n",
    "                              random_state=42, n_jobs=-1)\n",
    "\n",
    "# Train Xgboost\n",
    "random_cv_xgb.fit(X_smote,y_smote)\n",
    "\n",
    "print(\"XGB best score : \",random_cv_xgb.best_score_)\n",
    "print(\"XGB best parameter : \",random_cv_xgb.best_params_)"
   ]
  },
  {
   "cell_type": "code",
   "execution_count": 136,
   "id": "ff21e323",
   "metadata": {},
   "outputs": [
    {
     "name": "stdout",
     "output_type": "stream",
     "text": [
      "Accuracy of XG - Boost after hyperparameter = 0.7390128465179175\n"
     ]
    }
   ],
   "source": [
    "# Train XGBoost with best parameters\n",
    "xgb_hyp = XGBClassifier(n_estimators =  500,\n",
    "                        reg_lambda =  0.001 ,\n",
    "                        reg_alpha=0.6 ,\n",
    "                        learning_rate=0.1 ,\n",
    "                        max_depth = 9,\n",
    "                        gamma=0.01,\n",
    "                       )\n",
    "\n",
    "xgb_hyp.fit(X_smote,y_smote)\n",
    "y_hyp_xgb = xgb_hyp.predict(X_test)\n",
    "\n",
    "acc_hyp_xgb = accuracy_score(y_test,y_hyp_xgb)\n",
    "print(f'Accuracy of XG - Boost after hyperparameter = {acc_hyp_xgb}')"
   ]
  },
  {
   "cell_type": "markdown",
   "id": "13a2e29c",
   "metadata": {},
   "source": [
    "## ( vii ) . Artificial Neural Network :---"
   ]
  },
  {
   "cell_type": "code",
   "execution_count": 137,
   "id": "45a3b626",
   "metadata": {},
   "outputs": [
    {
     "name": "stdout",
     "output_type": "stream",
     "text": [
      "Accuracy Score of ANN is : 0.5841784989858012\n"
     ]
    }
   ],
   "source": [
    "from sklearn.neural_network import MLPClassifier  # import neural network\n",
    "ann = MLPClassifier(random_state=2)              # Define Neural network\n",
    "ann.fit(X_smote,y_smote)                          # Train Neural network\n",
    "y_ann = ann.predict(X_test)                       # make prediction for y_test\n",
    "\n",
    "acc_ann = accuracy_score(y_test,y_ann)\n",
    "print(f'Accuracy Score of ANN is : {acc_ann}')"
   ]
  },
  {
   "cell_type": "raw",
   "id": "6c8da9c3",
   "metadata": {},
   "source": [
    "for i in range(101):\n",
    "\n",
    "    lg = MLPClassifier(random_state=i)                                          \n",
    "    lg.fit(X_smote,y_smote)                                            \n",
    "    ylg = lg.predict(X_test)                                       \n",
    "    ac = accuracy_score(y_test,ylg)\n",
    "    print(\"random\",i,\"accuracy: \",ac)"
   ]
  },
  {
   "cell_type": "code",
   "execution_count": null,
   "id": "f8f2e3ef",
   "metadata": {},
   "outputs": [],
   "source": []
  },
  {
   "cell_type": "markdown",
   "id": "188710f1",
   "metadata": {},
   "source": [
    "### Hyperparameter Tunning of Artificial Neural Network :"
   ]
  },
  {
   "cell_type": "code",
   "execution_count": null,
   "id": "0a0d1590",
   "metadata": {},
   "outputs": [],
   "source": [
    "# Define Hyperparameters required for Artificial neural network\n",
    "hyperpara_ann  =  {\n",
    "    'hidden_layer_sizes' : [(100,50),(200,100,50),(250,180,70)],\n",
    "    'activation' : ['identity', 'logistic', 'relu'],\n",
    "    'alpha' : [0.0001,0.001,0.01,0.1,1],\n",
    "    'batch_size':[100,200,300,400], \n",
    "    'max_iter' : [200,400,500,600,800]\n",
    "                            }    \n",
    "# import RandomizedSearchCV\n",
    "from sklearn.model_selection import RandomizedSearchCV\n",
    "\n",
    "# Define RandomizedSearchCV\n",
    "random_cv_ann = RandomizedSearchCV(estimator=MLPClassifier(random_state=5),\n",
    "                                  param_distributions=hyperpara_ann,\n",
    "                                  n_iter=100,\n",
    "                                  n_jobs=-1,\n",
    "                                  cv=1,\n",
    "                                  verbose=1)\n",
    "# Train RandomizedSearchCV\n",
    "random_cv_ann.fit(X_smote,y_smote)\n",
    "\n",
    "\n",
    "\n",
    "print(\"ANN best score : \",random_cv_ann.best_score_)\n",
    "print(\"ANN best parameter : \",random_cv_ann.best_params_)"
   ]
  },
  {
   "cell_type": "code",
   "execution_count": 138,
   "id": "fadd3ce4",
   "metadata": {},
   "outputs": [
    {
     "name": "stdout",
     "output_type": "stream",
     "text": [
      "Accuracy of Artificial Neural Network after hyperparameter = 0.7390128465179175\n"
     ]
    }
   ],
   "source": [
    "# Train Artificial neural Network with best parameters\n",
    "ann_hyp = MLPClassifier(hidden_layer_sizes=(200,100,2),\n",
    "                       activation='relu',\n",
    "                       alpha=0.1,\n",
    "                       batch_size=150,\n",
    "                       max_iter=150,learning_rate_init=0.01)\n",
    "\n",
    "ann_hyp.fit(X_smote,y_smote)\n",
    "y_hyp_ann = ann_hyp.predict(X_test)\n",
    "\n",
    "acc_hyp_ann = accuracy_score(y_test,y_hyp_xgb)\n",
    "print(f'Accuracy of Artificial Neural Network after hyperparameter = {acc_hyp_ann}')"
   ]
  },
  {
   "cell_type": "markdown",
   "id": "5c36a2d9",
   "metadata": {},
   "source": [
    "## Naive Bayes"
   ]
  },
  {
   "cell_type": "code",
   "execution_count": 139,
   "id": "ca8fa4ea",
   "metadata": {},
   "outputs": [
    {
     "name": "stdout",
     "output_type": "stream",
     "text": [
      "Accuracy of Naive Bayes is 0.48208248816768084\n"
     ]
    }
   ],
   "source": [
    "from sklearn.naive_bayes import BernoulliNB,CategoricalNB,GaussianNB   # import Naive Bayes\n",
    "\n",
    "N_bayes = BernoulliNB()                # Define Naive Bayes\n",
    "N_bayes.fit(X_smote,y_smote)             # Train Naive Bayes\n",
    "y_Bayes = N_bayes.predict(X_test)       # make prediction for naive Bayes\n",
    "\n",
    "acc_naive_bayes = accuracy_score(y_test,y_Bayes)         # Check Performance\n",
    "print(f'Accuracy of Naive Bayes is {acc_naive_bayes}')"
   ]
  },
  {
   "cell_type": "code",
   "execution_count": null,
   "id": "f2545fc3",
   "metadata": {},
   "outputs": [],
   "source": []
  },
  {
   "cell_type": "markdown",
   "id": "0a67f9a6",
   "metadata": {},
   "source": [
    "# ...............................................  RESULTS  ..............................................."
   ]
  },
  {
   "cell_type": "code",
   "execution_count": 140,
   "id": "0caf6ebb",
   "metadata": {},
   "outputs": [],
   "source": [
    "results = pd.DataFrame({\n",
    "    'Models' : ['Logistic Regression','K_nearest Neighbour','Support Vector','Decision Tree','Random Forest',\n",
    "                'Gradient Booster','XG-Booster','Neural Network','Naive Bayes'] ,\n",
    "    \n",
    "    'Accuracy' : [acc_log_smote, acc_knn, acc_svm, acc_tree, acc_forest, acc_gboost, acc_xgb, acc_ann, acc_naive_bayes] ,\n",
    "    \n",
    "    'Hyperparameter' : [np.nan , acc_hyp_knn ,acc_hyp_knn ,acc_hyp_tree ,acc_hyp_forest ,acc_hyp_boost ,\n",
    "                        acc_hyp_xgb ,acc_hyp_ann, np.nan]\n",
    "})"
   ]
  },
  {
   "cell_type": "code",
   "execution_count": 141,
   "id": "8665a572",
   "metadata": {},
   "outputs": [
    {
     "data": {
      "text/html": [
       "<div>\n",
       "<style scoped>\n",
       "    .dataframe tbody tr th:only-of-type {\n",
       "        vertical-align: middle;\n",
       "    }\n",
       "\n",
       "    .dataframe tbody tr th {\n",
       "        vertical-align: top;\n",
       "    }\n",
       "\n",
       "    .dataframe thead th {\n",
       "        text-align: right;\n",
       "    }\n",
       "</style>\n",
       "<table border=\"1\" class=\"dataframe\">\n",
       "  <thead>\n",
       "    <tr style=\"text-align: right;\">\n",
       "      <th></th>\n",
       "      <th>Models</th>\n",
       "      <th>Accuracy</th>\n",
       "      <th>Hyperparameter</th>\n",
       "    </tr>\n",
       "  </thead>\n",
       "  <tbody>\n",
       "    <tr>\n",
       "      <th>0</th>\n",
       "      <td>Logistic Regression</td>\n",
       "      <td>0.628127</td>\n",
       "      <td>NaN</td>\n",
       "    </tr>\n",
       "    <tr>\n",
       "      <th>1</th>\n",
       "      <td>K_nearest Neighbour</td>\n",
       "      <td>0.649087</td>\n",
       "      <td>0.659229</td>\n",
       "    </tr>\n",
       "    <tr>\n",
       "      <th>2</th>\n",
       "      <td>Support Vector</td>\n",
       "      <td>0.598377</td>\n",
       "      <td>0.659229</td>\n",
       "    </tr>\n",
       "    <tr>\n",
       "      <th>3</th>\n",
       "      <td>Decision Tree</td>\n",
       "      <td>0.686951</td>\n",
       "      <td>0.686275</td>\n",
       "    </tr>\n",
       "    <tr>\n",
       "      <th>4</th>\n",
       "      <td>Random Forest</td>\n",
       "      <td>0.751183</td>\n",
       "      <td>0.743746</td>\n",
       "    </tr>\n",
       "    <tr>\n",
       "      <th>5</th>\n",
       "      <td>Gradient Booster</td>\n",
       "      <td>0.724138</td>\n",
       "      <td>0.753888</td>\n",
       "    </tr>\n",
       "    <tr>\n",
       "      <th>6</th>\n",
       "      <td>XG-Booster</td>\n",
       "      <td>0.742394</td>\n",
       "      <td>0.739013</td>\n",
       "    </tr>\n",
       "    <tr>\n",
       "      <th>7</th>\n",
       "      <td>Neural Network</td>\n",
       "      <td>0.584178</td>\n",
       "      <td>0.739013</td>\n",
       "    </tr>\n",
       "    <tr>\n",
       "      <th>8</th>\n",
       "      <td>Naive Bayes</td>\n",
       "      <td>0.482082</td>\n",
       "      <td>NaN</td>\n",
       "    </tr>\n",
       "  </tbody>\n",
       "</table>\n",
       "</div>"
      ],
      "text/plain": [
       "                Models  Accuracy  Hyperparameter\n",
       "0  Logistic Regression  0.628127             NaN\n",
       "1  K_nearest Neighbour  0.649087        0.659229\n",
       "2       Support Vector  0.598377        0.659229\n",
       "3        Decision Tree  0.686951        0.686275\n",
       "4        Random Forest  0.751183        0.743746\n",
       "5     Gradient Booster  0.724138        0.753888\n",
       "6           XG-Booster  0.742394        0.739013\n",
       "7       Neural Network  0.584178        0.739013\n",
       "8          Naive Bayes  0.482082             NaN"
      ]
     },
     "execution_count": 141,
     "metadata": {},
     "output_type": "execute_result"
    }
   ],
   "source": [
    "results"
   ]
  },
  {
   "cell_type": "code",
   "execution_count": null,
   "id": "4336937e",
   "metadata": {},
   "outputs": [],
   "source": []
  }
 ],
 "metadata": {
  "kernelspec": {
   "display_name": "Python 3 (ipykernel)",
   "language": "python",
   "name": "python3"
  },
  "language_info": {
   "codemirror_mode": {
    "name": "ipython",
    "version": 3
   },
   "file_extension": ".py",
   "mimetype": "text/x-python",
   "name": "python",
   "nbconvert_exporter": "python",
   "pygments_lexer": "ipython3",
   "version": "3.10.9"
  }
 },
 "nbformat": 4,
 "nbformat_minor": 5
}
